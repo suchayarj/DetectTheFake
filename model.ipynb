{
 "cells": [
  {
   "cell_type": "code",
   "execution_count": 161,
   "metadata": {},
   "outputs": [],
   "source": [
    "import numpy as np\n",
    "import pandas as pd\n",
    "import matplotlib.pyplot as plt\n",
    "plt.style.use('fivethirtyeight')\n",
    "from sklearn.svm import OneClassSVM \n",
    "from wordcloud import WordCloud, STOPWORDS, ImageColorGenerator"
   ]
  },
  {
   "cell_type": "code",
   "execution_count": 39,
   "metadata": {},
   "outputs": [],
   "source": [
    "data = pd.read_csv('predicted_review.csv')"
   ]
  },
  {
   "cell_type": "code",
   "execution_count": 57,
   "metadata": {},
   "outputs": [],
   "source": [
    "data['True(1)/Deceptive(0)'] = (data['True(1)/Deceptive(0)'] == 'True').astype(int)"
   ]
  },
  {
   "cell_type": "code",
   "execution_count": 58,
   "metadata": {},
   "outputs": [],
   "source": [
    "data = data.rename(columns={'True(1)/Deceptive(0)':'True'})"
   ]
  },
  {
   "cell_type": "code",
   "execution_count": 59,
   "metadata": {},
   "outputs": [
    {
     "data": {
      "text/html": [
       "<div>\n",
       "<style scoped>\n",
       "    .dataframe tbody tr th:only-of-type {\n",
       "        vertical-align: middle;\n",
       "    }\n",
       "\n",
       "    .dataframe tbody tr th {\n",
       "        vertical-align: top;\n",
       "    }\n",
       "\n",
       "    .dataframe thead th {\n",
       "        text-align: right;\n",
       "    }\n",
       "</style>\n",
       "<table border=\"1\" class=\"dataframe\">\n",
       "  <thead>\n",
       "    <tr style=\"text-align: right;\">\n",
       "      <th></th>\n",
       "      <th>Review</th>\n",
       "      <th>True</th>\n",
       "    </tr>\n",
       "  </thead>\n",
       "  <tbody>\n",
       "    <tr>\n",
       "      <th>0</th>\n",
       "      <td>This place is horrible, we were so excited to ...</td>\n",
       "      <td>1</td>\n",
       "    </tr>\n",
       "    <tr>\n",
       "      <th>1</th>\n",
       "      <td>For being fairly \"fast\" food.. Pei Wei (pronou...</td>\n",
       "      <td>1</td>\n",
       "    </tr>\n",
       "    <tr>\n",
       "      <th>2</th>\n",
       "      <td>I decided to try it out, I'm celiac and theref...</td>\n",
       "      <td>1</td>\n",
       "    </tr>\n",
       "    <tr>\n",
       "      <th>3</th>\n",
       "      <td>I'm not saying Pei Wei is the best asian food ...</td>\n",
       "      <td>1</td>\n",
       "    </tr>\n",
       "    <tr>\n",
       "      <th>4</th>\n",
       "      <td>Sometimes the food is spot on and delicious an...</td>\n",
       "      <td>1</td>\n",
       "    </tr>\n",
       "  </tbody>\n",
       "</table>\n",
       "</div>"
      ],
      "text/plain": [
       "                                              Review  True\n",
       "0  This place is horrible, we were so excited to ...     1\n",
       "1  For being fairly \"fast\" food.. Pei Wei (pronou...     1\n",
       "2  I decided to try it out, I'm celiac and theref...     1\n",
       "3  I'm not saying Pei Wei is the best asian food ...     1\n",
       "4  Sometimes the food is spot on and delicious an...     1"
      ]
     },
     "execution_count": 59,
     "metadata": {},
     "output_type": "execute_result"
    }
   ],
   "source": [
    "data.head()"
   ]
  },
  {
   "cell_type": "code",
   "execution_count": 73,
   "metadata": {},
   "outputs": [
    {
     "data": {
      "text/plain": [
       "(array([ 423516.,       0.,       0.,       0.,       0.,       0.,\n",
       "              0.,       0.,       0., 1554986.]),\n",
       " array([0. , 0.1, 0.2, 0.3, 0.4, 0.5, 0.6, 0.7, 0.8, 0.9, 1. ]),\n",
       " <a list of 10 Patch objects>)"
      ]
     },
     "execution_count": 73,
     "metadata": {},
     "output_type": "execute_result"
    },
    {
     "data": {
      "image/png": "[encoded data removed]",
      "text/plain": [
       "<Figure size 720x504 with 1 Axes>"
      ]
     },
     "metadata": {
      "needs_background": "light"
     },
     "output_type": "display_data"
    }
   ],
   "source": [
    "fig,ax = plt.subplots(figsize = (10,7))\n",
    "plt.hist(data['True'])"
   ]
  },
  {
   "cell_type": "code",
   "execution_count": 60,
   "metadata": {},
   "outputs": [],
   "source": [
    "true = data[data['True'] == 1]"
   ]
  },
  {
   "cell_type": "code",
   "execution_count": null,
   "metadata": {},
   "outputs": [],
   "source": []
  },
  {
   "cell_type": "code",
   "execution_count": 61,
   "metadata": {},
   "outputs": [
    {
     "name": "stdout",
     "output_type": "stream",
     "text": [
      "1554986 1978502\n"
     ]
    }
   ],
   "source": [
    "print(len(true),len(data))"
   ]
  },
  {
   "cell_type": "code",
   "execution_count": 64,
   "metadata": {},
   "outputs": [
    {
     "name": "stdout",
     "output_type": "stream",
     "text": [
      "423516\n"
     ]
    }
   ],
   "source": [
    "print(len(data[data['True'] == 0]))"
   ]
  },
  {
   "cell_type": "code",
   "execution_count": 65,
   "metadata": {},
   "outputs": [],
   "source": [
    "true = true.sample(50000)"
   ]
  },
  {
   "cell_type": "code",
   "execution_count": 66,
   "metadata": {},
   "outputs": [],
   "source": [
    "#remove accents\n",
    "import unicodedata\n",
    "\n",
    "def remove_accents(input_str):\n",
    "    nfkd_form = unicodedata.normalize('NFKD', input_str)\n",
    "    only_ascii = nfkd_form.encode('ASCII', 'ignore')\n",
    "    return only_ascii.decode()"
   ]
  },
  {
   "cell_type": "code",
   "execution_count": 67,
   "metadata": {},
   "outputs": [],
   "source": [
    "true['Review'] = true['Review'].apply(remove_accents)"
   ]
  },
  {
   "cell_type": "code",
   "execution_count": 68,
   "metadata": {},
   "outputs": [],
   "source": [
    "#lower case\n",
    "true['Review'] = true['Review'].str.lower()"
   ]
  },
  {
   "cell_type": "code",
   "execution_count": 69,
   "metadata": {},
   "outputs": [],
   "source": [
    "#NLTK word tokenizer\n",
    "from nltk.tokenize import sent_tokenize, word_tokenize\n",
    "true['Tokenized'] = true['Review'].apply(word_tokenize)"
   ]
  },
  {
   "cell_type": "code",
   "execution_count": 70,
   "metadata": {},
   "outputs": [
    {
     "data": {
      "text/html": [
       "<div>\n",
       "<style scoped>\n",
       "    .dataframe tbody tr th:only-of-type {\n",
       "        vertical-align: middle;\n",
       "    }\n",
       "\n",
       "    .dataframe tbody tr th {\n",
       "        vertical-align: top;\n",
       "    }\n",
       "\n",
       "    .dataframe thead th {\n",
       "        text-align: right;\n",
       "    }\n",
       "</style>\n",
       "<table border=\"1\" class=\"dataframe\">\n",
       "  <thead>\n",
       "    <tr style=\"text-align: right;\">\n",
       "      <th></th>\n",
       "      <th>Review</th>\n",
       "      <th>True</th>\n",
       "      <th>Tokenized</th>\n",
       "    </tr>\n",
       "  </thead>\n",
       "  <tbody>\n",
       "    <tr>\n",
       "      <th>377107</th>\n",
       "      <td>my family and i had a great time... service wa...</td>\n",
       "      <td>1</td>\n",
       "      <td>[my, family, and, i, had, a, great, time, ...,...</td>\n",
       "    </tr>\n",
       "    <tr>\n",
       "      <th>696302</th>\n",
       "      <td>well, i like this cranky ole building and the ...</td>\n",
       "      <td>1</td>\n",
       "      <td>[well, ,, i, like, this, cranky, ole, building...</td>\n",
       "    </tr>\n",
       "    <tr>\n",
       "      <th>795485</th>\n",
       "      <td>my friend that lives there took me there on we...</td>\n",
       "      <td>1</td>\n",
       "      <td>[my, friend, that, lives, there, took, me, the...</td>\n",
       "    </tr>\n",
       "    <tr>\n",
       "      <th>1295857</th>\n",
       "      <td>they make pierogi's from scratch, and so many ...</td>\n",
       "      <td>1</td>\n",
       "      <td>[they, make, pierogi, 's, from, scratch, ,, an...</td>\n",
       "    </tr>\n",
       "    <tr>\n",
       "      <th>1083598</th>\n",
       "      <td>best trendy hot spot in glendale. i can't beli...</td>\n",
       "      <td>1</td>\n",
       "      <td>[best, trendy, hot, spot, in, glendale, ., i, ...</td>\n",
       "    </tr>\n",
       "  </tbody>\n",
       "</table>\n",
       "</div>"
      ],
      "text/plain": [
       "                                                    Review  True  \\\n",
       "377107   my family and i had a great time... service wa...     1   \n",
       "696302   well, i like this cranky ole building and the ...     1   \n",
       "795485   my friend that lives there took me there on we...     1   \n",
       "1295857  they make pierogi's from scratch, and so many ...     1   \n",
       "1083598  best trendy hot spot in glendale. i can't beli...     1   \n",
       "\n",
       "                                                 Tokenized  \n",
       "377107   [my, family, and, i, had, a, great, time, ...,...  \n",
       "696302   [well, ,, i, like, this, cranky, ole, building...  \n",
       "795485   [my, friend, that, lives, there, took, me, the...  \n",
       "1295857  [they, make, pierogi, 's, from, scratch, ,, an...  \n",
       "1083598  [best, trendy, hot, spot, in, glendale, ., i, ...  "
      ]
     },
     "execution_count": 70,
     "metadata": {},
     "output_type": "execute_result"
    }
   ],
   "source": [
    "true.head()"
   ]
  },
  {
   "cell_type": "code",
   "execution_count": 51,
   "metadata": {},
   "outputs": [],
   "source": [
    "# https://www.datacamp.com/community/tutorials/text-analytics-beginners-nltk\n",
    "# from nltk.probability import FreqDist\n",
    "# fdist = FreqDist(tokenized_word)\n",
    "# print(fdist)\n",
    "\n",
    "# fdist.most_common(2)\n",
    "\n",
    "# import matplotlib.pyplot as plt\n",
    "# fdist.plot(30,cumulative=False)\n",
    "# plt.show()"
   ]
  },
  {
   "cell_type": "code",
   "execution_count": 74,
   "metadata": {},
   "outputs": [],
   "source": [
    "#remove puncs and stopwords\n",
    "#NEED TO EXPAND stopwords for MAKEUP site\n",
    "from nltk.corpus import stopwords\n",
    "import string\n",
    "\n",
    "stopwords_ = set(stopwords.words('english'))\n",
    "punctuations_ = set(string.punctuation)\n",
    "\n",
    "true['Tokenized2'] = true['Tokenized'].apply(lambda x: [item for item in x if item not in stopwords_  and not item in punctuations_])"
   ]
  },
  {
   "cell_type": "code",
   "execution_count": null,
   "metadata": {},
   "outputs": [],
   "source": [
    "#NEED TO REMOVE NUMBERS"
   ]
  },
  {
   "cell_type": "code",
   "execution_count": 75,
   "metadata": {},
   "outputs": [
    {
     "data": {
      "text/html": [
       "<div>\n",
       "<style scoped>\n",
       "    .dataframe tbody tr th:only-of-type {\n",
       "        vertical-align: middle;\n",
       "    }\n",
       "\n",
       "    .dataframe tbody tr th {\n",
       "        vertical-align: top;\n",
       "    }\n",
       "\n",
       "    .dataframe thead th {\n",
       "        text-align: right;\n",
       "    }\n",
       "</style>\n",
       "<table border=\"1\" class=\"dataframe\">\n",
       "  <thead>\n",
       "    <tr style=\"text-align: right;\">\n",
       "      <th></th>\n",
       "      <th>Review</th>\n",
       "      <th>True</th>\n",
       "      <th>Tokenized</th>\n",
       "      <th>Tokenized2</th>\n",
       "    </tr>\n",
       "  </thead>\n",
       "  <tbody>\n",
       "    <tr>\n",
       "      <th>377107</th>\n",
       "      <td>my family and i had a great time... service wa...</td>\n",
       "      <td>1</td>\n",
       "      <td>[my, family, and, i, had, a, great, time, ...,...</td>\n",
       "      <td>[family, great, time, ..., service, fast, frie...</td>\n",
       "    </tr>\n",
       "    <tr>\n",
       "      <th>696302</th>\n",
       "      <td>well, i like this cranky ole building and the ...</td>\n",
       "      <td>1</td>\n",
       "      <td>[well, ,, i, like, this, cranky, ole, building...</td>\n",
       "      <td>[well, like, cranky, ole, building, menu, cour...</td>\n",
       "    </tr>\n",
       "    <tr>\n",
       "      <th>795485</th>\n",
       "      <td>my friend that lives there took me there on we...</td>\n",
       "      <td>1</td>\n",
       "      <td>[my, friend, that, lives, there, took, me, the...</td>\n",
       "      <td>[friend, lives, took, wednesday, labor, day, w...</td>\n",
       "    </tr>\n",
       "    <tr>\n",
       "      <th>1295857</th>\n",
       "      <td>they make pierogi's from scratch, and so many ...</td>\n",
       "      <td>1</td>\n",
       "      <td>[they, make, pierogi, 's, from, scratch, ,, an...</td>\n",
       "      <td>[make, pierogi, 's, scratch, many, varieties, ...</td>\n",
       "    </tr>\n",
       "    <tr>\n",
       "      <th>1083598</th>\n",
       "      <td>best trendy hot spot in glendale. i can't beli...</td>\n",
       "      <td>1</td>\n",
       "      <td>[best, trendy, hot, spot, in, glendale, ., i, ...</td>\n",
       "      <td>[best, trendy, hot, spot, glendale, ca, n't, b...</td>\n",
       "    </tr>\n",
       "    <tr>\n",
       "      <th>...</th>\n",
       "      <td>...</td>\n",
       "      <td>...</td>\n",
       "      <td>...</td>\n",
       "      <td>...</td>\n",
       "    </tr>\n",
       "    <tr>\n",
       "      <th>742358</th>\n",
       "      <td>the cabo wabo cantina is another one of those ...</td>\n",
       "      <td>1</td>\n",
       "      <td>[the, cabo, wabo, cantina, is, another, one, o...</td>\n",
       "      <td>[cabo, wabo, cantina, another, one, tourist, t...</td>\n",
       "    </tr>\n",
       "    <tr>\n",
       "      <th>296348</th>\n",
       "      <td>food was delish! we got the sampler with mac &amp;...</td>\n",
       "      <td>1</td>\n",
       "      <td>[food, was, delish, !, we, got, the, sampler, ...</td>\n",
       "      <td>[food, delish, got, sampler, mac, cheese, croq...</td>\n",
       "    </tr>\n",
       "    <tr>\n",
       "      <th>651741</th>\n",
       "      <td>been going here since the 90s. the building ha...</td>\n",
       "      <td>1</td>\n",
       "      <td>[been, going, here, since, the, 90s, ., the, b...</td>\n",
       "      <td>[going, since, 90s, building, changed, food, p...</td>\n",
       "    </tr>\n",
       "    <tr>\n",
       "      <th>682319</th>\n",
       "      <td>i like chili's, i know what i am getting so i ...</td>\n",
       "      <td>1</td>\n",
       "      <td>[i, like, chili, 's, ,, i, know, what, i, am, ...</td>\n",
       "      <td>[like, chili, 's, know, getting, like, food, s...</td>\n",
       "    </tr>\n",
       "    <tr>\n",
       "      <th>1130462</th>\n",
       "      <td>had a really great early dinner here. the crep...</td>\n",
       "      <td>1</td>\n",
       "      <td>[had, a, really, great, early, dinner, here, ....</td>\n",
       "      <td>[really, great, early, dinner, crepes, marseil...</td>\n",
       "    </tr>\n",
       "  </tbody>\n",
       "</table>\n",
       "<p>50000 rows × 4 columns</p>\n",
       "</div>"
      ],
      "text/plain": [
       "                                                    Review  True  \\\n",
       "377107   my family and i had a great time... service wa...     1   \n",
       "696302   well, i like this cranky ole building and the ...     1   \n",
       "795485   my friend that lives there took me there on we...     1   \n",
       "1295857  they make pierogi's from scratch, and so many ...     1   \n",
       "1083598  best trendy hot spot in glendale. i can't beli...     1   \n",
       "...                                                    ...   ...   \n",
       "742358   the cabo wabo cantina is another one of those ...     1   \n",
       "296348   food was delish! we got the sampler with mac &...     1   \n",
       "651741   been going here since the 90s. the building ha...     1   \n",
       "682319   i like chili's, i know what i am getting so i ...     1   \n",
       "1130462  had a really great early dinner here. the crep...     1   \n",
       "\n",
       "                                                 Tokenized  \\\n",
       "377107   [my, family, and, i, had, a, great, time, ...,...   \n",
       "696302   [well, ,, i, like, this, cranky, ole, building...   \n",
       "795485   [my, friend, that, lives, there, took, me, the...   \n",
       "1295857  [they, make, pierogi, 's, from, scratch, ,, an...   \n",
       "1083598  [best, trendy, hot, spot, in, glendale, ., i, ...   \n",
       "...                                                    ...   \n",
       "742358   [the, cabo, wabo, cantina, is, another, one, o...   \n",
       "296348   [food, was, delish, !, we, got, the, sampler, ...   \n",
       "651741   [been, going, here, since, the, 90s, ., the, b...   \n",
       "682319   [i, like, chili, 's, ,, i, know, what, i, am, ...   \n",
       "1130462  [had, a, really, great, early, dinner, here, ....   \n",
       "\n",
       "                                                Tokenized2  \n",
       "377107   [family, great, time, ..., service, fast, frie...  \n",
       "696302   [well, like, cranky, ole, building, menu, cour...  \n",
       "795485   [friend, lives, took, wednesday, labor, day, w...  \n",
       "1295857  [make, pierogi, 's, scratch, many, varieties, ...  \n",
       "1083598  [best, trendy, hot, spot, glendale, ca, n't, b...  \n",
       "...                                                    ...  \n",
       "742358   [cabo, wabo, cantina, another, one, tourist, t...  \n",
       "296348   [food, delish, got, sampler, mac, cheese, croq...  \n",
       "651741   [going, since, 90s, building, changed, food, p...  \n",
       "682319   [like, chili, 's, know, getting, like, food, s...  \n",
       "1130462  [really, great, early, dinner, crepes, marseil...  \n",
       "\n",
       "[50000 rows x 4 columns]"
      ]
     },
     "execution_count": 75,
     "metadata": {},
     "output_type": "execute_result"
    }
   ],
   "source": [
    "true"
   ]
  },
  {
   "cell_type": "code",
   "execution_count": 76,
   "metadata": {},
   "outputs": [],
   "source": [
    "#stemming/ lemmatization\n",
    "from nltk.stem.snowball import SnowballStemmer\n",
    "#using snowball to preserve some words ex: 'better' (so it does not become 'good')\n",
    "stemmer = SnowballStemmer(\"english\")\n",
    "true['Stemmed'] = true['Tokenized2'].apply(lambda x: [stemmer.stem(y) for y in x])"
   ]
  },
  {
   "cell_type": "code",
   "execution_count": null,
   "metadata": {},
   "outputs": [],
   "source": [
    "#n-gram, might do in the future"
   ]
  },
  {
   "cell_type": "code",
   "execution_count": null,
   "metadata": {},
   "outputs": [],
   "source": [
    "# #detokenize before vectorize\n",
    "# from nltk.tokenize.treebank import TreebankWordDetokenizer \n",
    "# detokenizer = TreebankWordDetokenizer()\n",
    "# true['Detokenized'] = true['Stemmed'].apply(lambda x: [detokenizer.detokenize(y) for y in x ])"
   ]
  },
  {
   "cell_type": "code",
   "execution_count": 77,
   "metadata": {},
   "outputs": [],
   "source": [
    "true['Detokenized'] = true['Stemmed'].apply(lambda x: ' '.join([y for y in x ]))\n",
    "#Detokenized "
   ]
  },
  {
   "cell_type": "code",
   "execution_count": null,
   "metadata": {},
   "outputs": [],
   "source": [
    "# true['Count'] = true['Detokenized'].apply(lambda x: (true['Detokenized'].value_counts()).loc[x])"
   ]
  },
  {
   "cell_type": "code",
   "execution_count": 78,
   "metadata": {},
   "outputs": [
    {
     "data": {
      "text/html": [
       "<div>\n",
       "<style scoped>\n",
       "    .dataframe tbody tr th:only-of-type {\n",
       "        vertical-align: middle;\n",
       "    }\n",
       "\n",
       "    .dataframe tbody tr th {\n",
       "        vertical-align: top;\n",
       "    }\n",
       "\n",
       "    .dataframe thead th {\n",
       "        text-align: right;\n",
       "    }\n",
       "</style>\n",
       "<table border=\"1\" class=\"dataframe\">\n",
       "  <thead>\n",
       "    <tr style=\"text-align: right;\">\n",
       "      <th></th>\n",
       "      <th>Review</th>\n",
       "      <th>True</th>\n",
       "      <th>Tokenized</th>\n",
       "      <th>Tokenized2</th>\n",
       "      <th>Stemmed</th>\n",
       "      <th>Detokenized</th>\n",
       "    </tr>\n",
       "  </thead>\n",
       "  <tbody>\n",
       "    <tr>\n",
       "      <th>377107</th>\n",
       "      <td>my family and i had a great time... service wa...</td>\n",
       "      <td>1</td>\n",
       "      <td>[my, family, and, i, had, a, great, time, ...,...</td>\n",
       "      <td>[family, great, time, ..., service, fast, frie...</td>\n",
       "      <td>[famili, great, time, ..., servic, fast, frien...</td>\n",
       "      <td>famili great time ... servic fast friend food ...</td>\n",
       "    </tr>\n",
       "    <tr>\n",
       "      <th>696302</th>\n",
       "      <td>well, i like this cranky ole building and the ...</td>\n",
       "      <td>1</td>\n",
       "      <td>[well, ,, i, like, this, cranky, ole, building...</td>\n",
       "      <td>[well, like, cranky, ole, building, menu, cour...</td>\n",
       "      <td>[well, like, cranki, ole, build, menu, cours, ...</td>\n",
       "      <td>well like cranki ole build menu cours 's direc...</td>\n",
       "    </tr>\n",
       "    <tr>\n",
       "      <th>795485</th>\n",
       "      <td>my friend that lives there took me there on we...</td>\n",
       "      <td>1</td>\n",
       "      <td>[my, friend, that, lives, there, took, me, the...</td>\n",
       "      <td>[friend, lives, took, wednesday, labor, day, w...</td>\n",
       "      <td>[friend, live, took, wednesday, labor, day, we...</td>\n",
       "      <td>friend live took wednesday labor day weekend l...</td>\n",
       "    </tr>\n",
       "    <tr>\n",
       "      <th>1295857</th>\n",
       "      <td>they make pierogi's from scratch, and so many ...</td>\n",
       "      <td>1</td>\n",
       "      <td>[they, make, pierogi, 's, from, scratch, ,, an...</td>\n",
       "      <td>[make, pierogi, 's, scratch, many, varieties, ...</td>\n",
       "      <td>[make, pierogi, 's, scratch, mani, varieti, fi...</td>\n",
       "      <td>make pierogi 's scratch mani varieti find tast...</td>\n",
       "    </tr>\n",
       "    <tr>\n",
       "      <th>1083598</th>\n",
       "      <td>best trendy hot spot in glendale. i can't beli...</td>\n",
       "      <td>1</td>\n",
       "      <td>[best, trendy, hot, spot, in, glendale, ., i, ...</td>\n",
       "      <td>[best, trendy, hot, spot, glendale, ca, n't, b...</td>\n",
       "      <td>[best, trendi, hot, spot, glendal, ca, n't, be...</td>\n",
       "      <td>best trendi hot spot glendal ca n't believ ve ...</td>\n",
       "    </tr>\n",
       "  </tbody>\n",
       "</table>\n",
       "</div>"
      ],
      "text/plain": [
       "                                                    Review  True  \\\n",
       "377107   my family and i had a great time... service wa...     1   \n",
       "696302   well, i like this cranky ole building and the ...     1   \n",
       "795485   my friend that lives there took me there on we...     1   \n",
       "1295857  they make pierogi's from scratch, and so many ...     1   \n",
       "1083598  best trendy hot spot in glendale. i can't beli...     1   \n",
       "\n",
       "                                                 Tokenized  \\\n",
       "377107   [my, family, and, i, had, a, great, time, ...,...   \n",
       "696302   [well, ,, i, like, this, cranky, ole, building...   \n",
       "795485   [my, friend, that, lives, there, took, me, the...   \n",
       "1295857  [they, make, pierogi, 's, from, scratch, ,, an...   \n",
       "1083598  [best, trendy, hot, spot, in, glendale, ., i, ...   \n",
       "\n",
       "                                                Tokenized2  \\\n",
       "377107   [family, great, time, ..., service, fast, frie...   \n",
       "696302   [well, like, cranky, ole, building, menu, cour...   \n",
       "795485   [friend, lives, took, wednesday, labor, day, w...   \n",
       "1295857  [make, pierogi, 's, scratch, many, varieties, ...   \n",
       "1083598  [best, trendy, hot, spot, glendale, ca, n't, b...   \n",
       "\n",
       "                                                   Stemmed  \\\n",
       "377107   [famili, great, time, ..., servic, fast, frien...   \n",
       "696302   [well, like, cranki, ole, build, menu, cours, ...   \n",
       "795485   [friend, live, took, wednesday, labor, day, we...   \n",
       "1295857  [make, pierogi, 's, scratch, mani, varieti, fi...   \n",
       "1083598  [best, trendi, hot, spot, glendal, ca, n't, be...   \n",
       "\n",
       "                                               Detokenized  \n",
       "377107   famili great time ... servic fast friend food ...  \n",
       "696302   well like cranki ole build menu cours 's direc...  \n",
       "795485   friend live took wednesday labor day weekend l...  \n",
       "1295857  make pierogi 's scratch mani varieti find tast...  \n",
       "1083598  best trendi hot spot glendal ca n't believ ve ...  "
      ]
     },
     "execution_count": 78,
     "metadata": {},
     "output_type": "execute_result"
    }
   ],
   "source": [
    "true.head()"
   ]
  },
  {
   "cell_type": "code",
   "execution_count": 172,
   "metadata": {},
   "outputs": [
    {
     "data": {
      "image/png": "[encoded data removed]",
      "text/plain": [
       "<Figure size 432x288 with 1 Axes>"
      ]
     },
     "metadata": {},
     "output_type": "display_data"
    }
   ],
   "source": [
    "# Start with one review:\n",
    "text = true['Detokenized'][377107]\n",
    "\n",
    "# Create and generate a word cloud image:\n",
    "wordcloud = WordCloud().generate(text)\n",
    "\n",
    "# Display the generated image:\n",
    "plt.imshow(wordcloud, interpolation='bilinear')\n",
    "plt.axis(\"off\")\n",
    "plt.show()"
   ]
  },
  {
   "cell_type": "code",
   "execution_count": 173,
   "metadata": {},
   "outputs": [
    {
     "name": "stdout",
     "output_type": "stream",
     "text": [
      "There are 18278890 words in the combination of all review.\n"
     ]
    }
   ],
   "source": [
    "text = \" \".join(review for review in true.Detokenized)\n",
    "print (\"There are {} words in the combination of all review.\".format(len(text)))"
   ]
  },
  {
   "cell_type": "code",
   "execution_count": 174,
   "metadata": {},
   "outputs": [
    {
     "data": {
      "image/png": "[encoded data removed]",
      "text/plain": [
       "<Figure size 432x288 with 1 Axes>"
      ]
     },
     "metadata": {},
     "output_type": "display_data"
    }
   ],
   "source": [
    "# Create and generate a word cloud image:\n",
    "wordcloud = WordCloud().generate(text)\n",
    "\n",
    "# Display the generated image:\n",
    "plt.imshow(wordcloud, interpolation='bilinear')\n",
    "plt.axis(\"off\")\n",
    "plt.show()"
   ]
  },
  {
   "cell_type": "code",
   "execution_count": 79,
   "metadata": {},
   "outputs": [],
   "source": [
    "from sklearn.feature_extraction.text import TfidfVectorizer\n",
    "tfidf = TfidfVectorizer(max_features= 300)\n",
    "doc_tfidf_matrix = tfidf.fit_transform(true['Detokenized']).todense()"
   ]
  },
  {
   "cell_type": "code",
   "execution_count": 80,
   "metadata": {},
   "outputs": [],
   "source": [
    "vector = pd.DataFrame(doc_tfidf_matrix, columns = tfidf.get_feature_names())"
   ]
  },
  {
   "cell_type": "code",
   "execution_count": 81,
   "metadata": {},
   "outputs": [
    {
     "data": {
      "text/html": [
       "<div>\n",
       "<style scoped>\n",
       "    .dataframe tbody tr th:only-of-type {\n",
       "        vertical-align: middle;\n",
       "    }\n",
       "\n",
       "    .dataframe tbody tr th {\n",
       "        vertical-align: top;\n",
       "    }\n",
       "\n",
       "    .dataframe thead th {\n",
       "        text-align: right;\n",
       "    }\n",
       "</style>\n",
       "<table border=\"1\" class=\"dataframe\">\n",
       "  <thead>\n",
       "    <tr style=\"text-align: right;\">\n",
       "      <th></th>\n",
       "      <th>10</th>\n",
       "      <th>20</th>\n",
       "      <th>actual</th>\n",
       "      <th>almost</th>\n",
       "      <th>also</th>\n",
       "      <th>alway</th>\n",
       "      <th>amaz</th>\n",
       "      <th>anoth</th>\n",
       "      <th>anyth</th>\n",
       "      <th>appet</th>\n",
       "      <th>...</th>\n",
       "      <th>wife</th>\n",
       "      <th>wine</th>\n",
       "      <th>wing</th>\n",
       "      <th>without</th>\n",
       "      <th>wo</th>\n",
       "      <th>wonder</th>\n",
       "      <th>work</th>\n",
       "      <th>worth</th>\n",
       "      <th>would</th>\n",
       "      <th>year</th>\n",
       "    </tr>\n",
       "  </thead>\n",
       "  <tbody>\n",
       "    <tr>\n",
       "      <th>0</th>\n",
       "      <td>0.0</td>\n",
       "      <td>0.0</td>\n",
       "      <td>0.000000</td>\n",
       "      <td>0.0</td>\n",
       "      <td>0.000000</td>\n",
       "      <td>0.000000</td>\n",
       "      <td>0.000000</td>\n",
       "      <td>0.000000</td>\n",
       "      <td>0.000000</td>\n",
       "      <td>0.0</td>\n",
       "      <td>...</td>\n",
       "      <td>0.0</td>\n",
       "      <td>0.0</td>\n",
       "      <td>0.0</td>\n",
       "      <td>0.0</td>\n",
       "      <td>0.0</td>\n",
       "      <td>0.0</td>\n",
       "      <td>0.000000</td>\n",
       "      <td>0.0</td>\n",
       "      <td>0.000000</td>\n",
       "      <td>0.000000</td>\n",
       "    </tr>\n",
       "    <tr>\n",
       "      <th>1</th>\n",
       "      <td>0.0</td>\n",
       "      <td>0.0</td>\n",
       "      <td>0.000000</td>\n",
       "      <td>0.0</td>\n",
       "      <td>0.114399</td>\n",
       "      <td>0.000000</td>\n",
       "      <td>0.000000</td>\n",
       "      <td>0.000000</td>\n",
       "      <td>0.000000</td>\n",
       "      <td>0.0</td>\n",
       "      <td>...</td>\n",
       "      <td>0.0</td>\n",
       "      <td>0.0</td>\n",
       "      <td>0.0</td>\n",
       "      <td>0.0</td>\n",
       "      <td>0.0</td>\n",
       "      <td>0.0</td>\n",
       "      <td>0.000000</td>\n",
       "      <td>0.0</td>\n",
       "      <td>0.000000</td>\n",
       "      <td>0.165103</td>\n",
       "    </tr>\n",
       "    <tr>\n",
       "      <th>2</th>\n",
       "      <td>0.0</td>\n",
       "      <td>0.0</td>\n",
       "      <td>0.000000</td>\n",
       "      <td>0.0</td>\n",
       "      <td>0.000000</td>\n",
       "      <td>0.000000</td>\n",
       "      <td>0.000000</td>\n",
       "      <td>0.000000</td>\n",
       "      <td>0.000000</td>\n",
       "      <td>0.0</td>\n",
       "      <td>...</td>\n",
       "      <td>0.0</td>\n",
       "      <td>0.0</td>\n",
       "      <td>0.0</td>\n",
       "      <td>0.0</td>\n",
       "      <td>0.0</td>\n",
       "      <td>0.0</td>\n",
       "      <td>0.000000</td>\n",
       "      <td>0.0</td>\n",
       "      <td>0.000000</td>\n",
       "      <td>0.000000</td>\n",
       "    </tr>\n",
       "    <tr>\n",
       "      <th>3</th>\n",
       "      <td>0.0</td>\n",
       "      <td>0.0</td>\n",
       "      <td>0.000000</td>\n",
       "      <td>0.0</td>\n",
       "      <td>0.000000</td>\n",
       "      <td>0.000000</td>\n",
       "      <td>0.000000</td>\n",
       "      <td>0.000000</td>\n",
       "      <td>0.000000</td>\n",
       "      <td>0.0</td>\n",
       "      <td>...</td>\n",
       "      <td>0.0</td>\n",
       "      <td>0.0</td>\n",
       "      <td>0.0</td>\n",
       "      <td>0.0</td>\n",
       "      <td>0.0</td>\n",
       "      <td>0.0</td>\n",
       "      <td>0.000000</td>\n",
       "      <td>0.0</td>\n",
       "      <td>0.158052</td>\n",
       "      <td>0.000000</td>\n",
       "    </tr>\n",
       "    <tr>\n",
       "      <th>4</th>\n",
       "      <td>0.0</td>\n",
       "      <td>0.0</td>\n",
       "      <td>0.000000</td>\n",
       "      <td>0.0</td>\n",
       "      <td>0.000000</td>\n",
       "      <td>0.000000</td>\n",
       "      <td>0.000000</td>\n",
       "      <td>0.000000</td>\n",
       "      <td>0.000000</td>\n",
       "      <td>0.0</td>\n",
       "      <td>...</td>\n",
       "      <td>0.0</td>\n",
       "      <td>0.0</td>\n",
       "      <td>0.0</td>\n",
       "      <td>0.0</td>\n",
       "      <td>0.0</td>\n",
       "      <td>0.0</td>\n",
       "      <td>0.000000</td>\n",
       "      <td>0.0</td>\n",
       "      <td>0.000000</td>\n",
       "      <td>0.000000</td>\n",
       "    </tr>\n",
       "    <tr>\n",
       "      <th>...</th>\n",
       "      <td>...</td>\n",
       "      <td>...</td>\n",
       "      <td>...</td>\n",
       "      <td>...</td>\n",
       "      <td>...</td>\n",
       "      <td>...</td>\n",
       "      <td>...</td>\n",
       "      <td>...</td>\n",
       "      <td>...</td>\n",
       "      <td>...</td>\n",
       "      <td>...</td>\n",
       "      <td>...</td>\n",
       "      <td>...</td>\n",
       "      <td>...</td>\n",
       "      <td>...</td>\n",
       "      <td>...</td>\n",
       "      <td>...</td>\n",
       "      <td>...</td>\n",
       "      <td>...</td>\n",
       "      <td>...</td>\n",
       "      <td>...</td>\n",
       "    </tr>\n",
       "    <tr>\n",
       "      <th>49995</th>\n",
       "      <td>0.0</td>\n",
       "      <td>0.0</td>\n",
       "      <td>0.116582</td>\n",
       "      <td>0.0</td>\n",
       "      <td>0.000000</td>\n",
       "      <td>0.000000</td>\n",
       "      <td>0.000000</td>\n",
       "      <td>0.054328</td>\n",
       "      <td>0.060086</td>\n",
       "      <td>0.0</td>\n",
       "      <td>...</td>\n",
       "      <td>0.0</td>\n",
       "      <td>0.0</td>\n",
       "      <td>0.0</td>\n",
       "      <td>0.0</td>\n",
       "      <td>0.0</td>\n",
       "      <td>0.0</td>\n",
       "      <td>0.053525</td>\n",
       "      <td>0.0</td>\n",
       "      <td>0.037058</td>\n",
       "      <td>0.000000</td>\n",
       "    </tr>\n",
       "    <tr>\n",
       "      <th>49996</th>\n",
       "      <td>0.0</td>\n",
       "      <td>0.0</td>\n",
       "      <td>0.247307</td>\n",
       "      <td>0.0</td>\n",
       "      <td>0.000000</td>\n",
       "      <td>0.000000</td>\n",
       "      <td>0.206587</td>\n",
       "      <td>0.000000</td>\n",
       "      <td>0.000000</td>\n",
       "      <td>0.0</td>\n",
       "      <td>...</td>\n",
       "      <td>0.0</td>\n",
       "      <td>0.0</td>\n",
       "      <td>0.0</td>\n",
       "      <td>0.0</td>\n",
       "      <td>0.0</td>\n",
       "      <td>0.0</td>\n",
       "      <td>0.000000</td>\n",
       "      <td>0.0</td>\n",
       "      <td>0.000000</td>\n",
       "      <td>0.000000</td>\n",
       "    </tr>\n",
       "    <tr>\n",
       "      <th>49997</th>\n",
       "      <td>0.0</td>\n",
       "      <td>0.0</td>\n",
       "      <td>0.000000</td>\n",
       "      <td>0.0</td>\n",
       "      <td>0.172575</td>\n",
       "      <td>0.200177</td>\n",
       "      <td>0.000000</td>\n",
       "      <td>0.000000</td>\n",
       "      <td>0.000000</td>\n",
       "      <td>0.0</td>\n",
       "      <td>...</td>\n",
       "      <td>0.0</td>\n",
       "      <td>0.0</td>\n",
       "      <td>0.0</td>\n",
       "      <td>0.0</td>\n",
       "      <td>0.0</td>\n",
       "      <td>0.0</td>\n",
       "      <td>0.000000</td>\n",
       "      <td>0.0</td>\n",
       "      <td>0.000000</td>\n",
       "      <td>0.000000</td>\n",
       "    </tr>\n",
       "    <tr>\n",
       "      <th>49998</th>\n",
       "      <td>0.0</td>\n",
       "      <td>0.0</td>\n",
       "      <td>0.000000</td>\n",
       "      <td>0.0</td>\n",
       "      <td>0.000000</td>\n",
       "      <td>0.317752</td>\n",
       "      <td>0.000000</td>\n",
       "      <td>0.000000</td>\n",
       "      <td>0.000000</td>\n",
       "      <td>0.0</td>\n",
       "      <td>...</td>\n",
       "      <td>0.0</td>\n",
       "      <td>0.0</td>\n",
       "      <td>0.0</td>\n",
       "      <td>0.0</td>\n",
       "      <td>0.0</td>\n",
       "      <td>0.0</td>\n",
       "      <td>0.000000</td>\n",
       "      <td>0.0</td>\n",
       "      <td>0.000000</td>\n",
       "      <td>0.000000</td>\n",
       "    </tr>\n",
       "    <tr>\n",
       "      <th>49999</th>\n",
       "      <td>0.0</td>\n",
       "      <td>0.0</td>\n",
       "      <td>0.000000</td>\n",
       "      <td>0.0</td>\n",
       "      <td>0.309514</td>\n",
       "      <td>0.000000</td>\n",
       "      <td>0.000000</td>\n",
       "      <td>0.000000</td>\n",
       "      <td>0.000000</td>\n",
       "      <td>0.0</td>\n",
       "      <td>...</td>\n",
       "      <td>0.0</td>\n",
       "      <td>0.0</td>\n",
       "      <td>0.0</td>\n",
       "      <td>0.0</td>\n",
       "      <td>0.0</td>\n",
       "      <td>0.0</td>\n",
       "      <td>0.000000</td>\n",
       "      <td>0.0</td>\n",
       "      <td>0.000000</td>\n",
       "      <td>0.000000</td>\n",
       "    </tr>\n",
       "  </tbody>\n",
       "</table>\n",
       "<p>50000 rows × 300 columns</p>\n",
       "</div>"
      ],
      "text/plain": [
       "        10   20    actual  almost      also     alway      amaz     anoth  \\\n",
       "0      0.0  0.0  0.000000     0.0  0.000000  0.000000  0.000000  0.000000   \n",
       "1      0.0  0.0  0.000000     0.0  0.114399  0.000000  0.000000  0.000000   \n",
       "2      0.0  0.0  0.000000     0.0  0.000000  0.000000  0.000000  0.000000   \n",
       "3      0.0  0.0  0.000000     0.0  0.000000  0.000000  0.000000  0.000000   \n",
       "4      0.0  0.0  0.000000     0.0  0.000000  0.000000  0.000000  0.000000   \n",
       "...    ...  ...       ...     ...       ...       ...       ...       ...   \n",
       "49995  0.0  0.0  0.116582     0.0  0.000000  0.000000  0.000000  0.054328   \n",
       "49996  0.0  0.0  0.247307     0.0  0.000000  0.000000  0.206587  0.000000   \n",
       "49997  0.0  0.0  0.000000     0.0  0.172575  0.200177  0.000000  0.000000   \n",
       "49998  0.0  0.0  0.000000     0.0  0.000000  0.317752  0.000000  0.000000   \n",
       "49999  0.0  0.0  0.000000     0.0  0.309514  0.000000  0.000000  0.000000   \n",
       "\n",
       "          anyth  appet  ...  wife  wine  wing  without   wo  wonder      work  \\\n",
       "0      0.000000    0.0  ...   0.0   0.0   0.0      0.0  0.0     0.0  0.000000   \n",
       "1      0.000000    0.0  ...   0.0   0.0   0.0      0.0  0.0     0.0  0.000000   \n",
       "2      0.000000    0.0  ...   0.0   0.0   0.0      0.0  0.0     0.0  0.000000   \n",
       "3      0.000000    0.0  ...   0.0   0.0   0.0      0.0  0.0     0.0  0.000000   \n",
       "4      0.000000    0.0  ...   0.0   0.0   0.0      0.0  0.0     0.0  0.000000   \n",
       "...         ...    ...  ...   ...   ...   ...      ...  ...     ...       ...   \n",
       "49995  0.060086    0.0  ...   0.0   0.0   0.0      0.0  0.0     0.0  0.053525   \n",
       "49996  0.000000    0.0  ...   0.0   0.0   0.0      0.0  0.0     0.0  0.000000   \n",
       "49997  0.000000    0.0  ...   0.0   0.0   0.0      0.0  0.0     0.0  0.000000   \n",
       "49998  0.000000    0.0  ...   0.0   0.0   0.0      0.0  0.0     0.0  0.000000   \n",
       "49999  0.000000    0.0  ...   0.0   0.0   0.0      0.0  0.0     0.0  0.000000   \n",
       "\n",
       "       worth     would      year  \n",
       "0        0.0  0.000000  0.000000  \n",
       "1        0.0  0.000000  0.165103  \n",
       "2        0.0  0.000000  0.000000  \n",
       "3        0.0  0.158052  0.000000  \n",
       "4        0.0  0.000000  0.000000  \n",
       "...      ...       ...       ...  \n",
       "49995    0.0  0.037058  0.000000  \n",
       "49996    0.0  0.000000  0.000000  \n",
       "49997    0.0  0.000000  0.000000  \n",
       "49998    0.0  0.000000  0.000000  \n",
       "49999    0.0  0.000000  0.000000  \n",
       "\n",
       "[50000 rows x 300 columns]"
      ]
     },
     "execution_count": 81,
     "metadata": {},
     "output_type": "execute_result"
    }
   ],
   "source": [
    "vector"
   ]
  },
  {
   "cell_type": "code",
   "execution_count": 82,
   "metadata": {},
   "outputs": [
    {
     "data": {
      "text/plain": [
       "Index(['10', '20', 'actual', 'almost', 'also', 'alway', 'amaz', 'anoth',\n",
       "       'anyth', 'appet',\n",
       "       ...\n",
       "       'wife', 'wine', 'wing', 'without', 'wo', 'wonder', 'work', 'worth',\n",
       "       'would', 'year'],\n",
       "      dtype='object', length=300)"
      ]
     },
     "execution_count": 82,
     "metadata": {},
     "output_type": "execute_result"
    }
   ],
   "source": [
    "vector.columns"
   ]
  },
  {
   "cell_type": "code",
   "execution_count": 83,
   "metadata": {},
   "outputs": [],
   "source": [
    "# import matplotlib.pyplot as plt\n",
    "\n",
    "# fig,ax = plt.subplots(figsize = (10,7))\n",
    "# plt.scatter(vector.iloc[0,:], vector.columns)\n",
    "# plt.tight_layout()"
   ]
  },
  {
   "cell_type": "code",
   "execution_count": 128,
   "metadata": {},
   "outputs": [],
   "source": [
    "from sklearn.model_selection import train_test_split\n",
    "from sklearn import svm\n",
    "\n",
    "X_train, X_test = train_test_split(vector, test_size=.2) \n",
    "estimator= svm.OneClassSVM(nu=0.1, kernel=\"rbf\", gamma=0.1)\n",
    "estimator.fit(X_train)\n",
    "y_pred_test = estimator.predict(X_test)"
   ]
  },
  {
   "cell_type": "code",
   "execution_count": 105,
   "metadata": {},
   "outputs": [
    {
     "data": {
      "text/plain": [
       "(10000,)"
      ]
     },
     "execution_count": 105,
     "metadata": {},
     "output_type": "execute_result"
    }
   ],
   "source": [
    "y_pred_test.shape"
   ]
  },
  {
   "cell_type": "code",
   "execution_count": 106,
   "metadata": {},
   "outputs": [
    {
     "data": {
      "text/plain": [
       "array([1., 1., 1., ..., 1., 1., 1.])"
      ]
     },
     "execution_count": 106,
     "metadata": {},
     "output_type": "execute_result"
    }
   ],
   "source": [
    "y_test = np.ones(shape=(10000,))\n",
    "y_test"
   ]
  },
  {
   "cell_type": "code",
   "execution_count": 107,
   "metadata": {},
   "outputs": [
    {
     "data": {
      "text/plain": [
       "(array([ 977.,    0.,    0.,    0.,    0.,    0.,    0.,    0.,    0.,\n",
       "        9023.]),\n",
       " array([-1. , -0.8, -0.6, -0.4, -0.2,  0. ,  0.2,  0.4,  0.6,  0.8,  1. ]),\n",
       " <a list of 10 Patch objects>)"
      ]
     },
     "execution_count": 107,
     "metadata": {},
     "output_type": "execute_result"
    },
    {
     "data": {
      "image/png": "[encoded data removed]",
      "text/plain": [
       "<Figure size 432x288 with 1 Axes>"
      ]
     },
     "metadata": {
      "needs_background": "light"
     },
     "output_type": "display_data"
    }
   ],
   "source": [
    "fig,ax = plt.subplots()\n",
    "plt.hist(y_pred_test)"
   ]
  },
  {
   "cell_type": "code",
   "execution_count": 108,
   "metadata": {},
   "outputs": [
    {
     "data": {
      "text/plain": [
       "array([ 977, 9023])"
      ]
     },
     "execution_count": 108,
     "metadata": {},
     "output_type": "execute_result"
    }
   ],
   "source": [
    "unique, counts = np.unique(y_pred_test, return_counts=True)\n",
    "\n",
    "dict(zip(unique, counts))\n",
    "counts"
   ]
  },
  {
   "cell_type": "code",
   "execution_count": 109,
   "metadata": {},
   "outputs": [
    {
     "data": {
      "text/plain": [
       "<BarContainer object of 2 artists>"
      ]
     },
     "execution_count": 109,
     "metadata": {},
     "output_type": "execute_result"
    },
    {
     "data": {
      "image/png": "[encoded data removed]",
      "text/plain": [
       "<Figure size 432x288 with 1 Axes>"
      ]
     },
     "metadata": {
      "needs_background": "light"
     },
     "output_type": "display_data"
    }
   ],
   "source": [
    "fig,ax = plt.subplots()\n",
    "plt.bar(['not correct','correct'], counts)\n"
   ]
  },
  {
   "cell_type": "code",
   "execution_count": 110,
   "metadata": {},
   "outputs": [],
   "source": [
    "from sklearn.metrics import classification_report, accuracy_score, precision_score, recall_score, f1_score, roc_auc_score, log_loss, confusion_matrix"
   ]
  },
  {
   "cell_type": "code",
   "execution_count": 111,
   "metadata": {},
   "outputs": [
    {
     "name": "stderr",
     "output_type": "stream",
     "text": [
      "/Users/suchaya/anaconda3/lib/python3.7/site-packages/sklearn/metrics/_classification.py:1268: UndefinedMetricWarning: Recall and F-score are ill-defined and being set to 0.0 in labels with no true samples. Use `zero_division` parameter to control this behavior.\n",
      "  _warn_prf(average, modifier, msg_start, len(result))\n"
     ]
    },
    {
     "data": {
      "text/plain": [
       "'              precision    recall  f1-score   support\\n\\n        -1.0       0.00      0.00      0.00         0\\n         1.0       1.00      0.90      0.95     10000\\n\\n    accuracy                           0.90     10000\\n   macro avg       0.50      0.45      0.47     10000\\nweighted avg       1.00      0.90      0.95     10000\\n'"
      ]
     },
     "execution_count": 111,
     "metadata": {},
     "output_type": "execute_result"
    }
   ],
   "source": [
    "classification_report(y_test, y_pred_test)"
   ]
  },
  {
   "cell_type": "code",
   "execution_count": 112,
   "metadata": {},
   "outputs": [
    {
     "data": {
      "text/plain": [
       "0.9023"
      ]
     },
     "execution_count": 112,
     "metadata": {},
     "output_type": "execute_result"
    }
   ],
   "source": [
    "accuracy_score(y_test, y_pred_test)"
   ]
  },
  {
   "cell_type": "code",
   "execution_count": 113,
   "metadata": {},
   "outputs": [
    {
     "data": {
      "text/plain": [
       "array([[   0,    0],\n",
       "       [ 977, 9023]])"
      ]
     },
     "execution_count": 113,
     "metadata": {},
     "output_type": "execute_result"
    }
   ],
   "source": [
    "confusion_matrix(y_test, y_pred_test)"
   ]
  },
  {
   "cell_type": "markdown",
   "metadata": {},
   "source": [
    "**try testing using only fake reviews with the model**"
   ]
  },
  {
   "cell_type": "code",
   "execution_count": 114,
   "metadata": {},
   "outputs": [],
   "source": [
    "# try testing only fake reviews with the model\n",
    "false = data[data['True'] == 0].sample(50000)\n",
    "false['Review'] = false['Review'].apply(remove_accents)\n",
    "false['Review'] = false['Review'].str.lower()"
   ]
  },
  {
   "cell_type": "code",
   "execution_count": 115,
   "metadata": {},
   "outputs": [],
   "source": [
    "false['Tokenized'] = false['Review'].apply(word_tokenize)"
   ]
  },
  {
   "cell_type": "code",
   "execution_count": 116,
   "metadata": {},
   "outputs": [],
   "source": [
    "false['Tokenized2'] = false['Tokenized'].apply(lambda x: [item for item in x if item not in stopwords_  and not item in punctuations_])"
   ]
  },
  {
   "cell_type": "code",
   "execution_count": 117,
   "metadata": {},
   "outputs": [],
   "source": [
    "stemmer = SnowballStemmer(\"english\")\n",
    "false['Stemmed'] = false['Tokenized2'].apply(lambda x: [stemmer.stem(y) for y in x])"
   ]
  },
  {
   "cell_type": "code",
   "execution_count": 118,
   "metadata": {},
   "outputs": [],
   "source": [
    "false['Detokenized'] = false['Stemmed'].apply(lambda x: ' '.join([y for y in x ]))"
   ]
  },
  {
   "cell_type": "code",
   "execution_count": 119,
   "metadata": {},
   "outputs": [
    {
     "data": {
      "text/html": [
       "<div>\n",
       "<style scoped>\n",
       "    .dataframe tbody tr th:only-of-type {\n",
       "        vertical-align: middle;\n",
       "    }\n",
       "\n",
       "    .dataframe tbody tr th {\n",
       "        vertical-align: top;\n",
       "    }\n",
       "\n",
       "    .dataframe thead th {\n",
       "        text-align: right;\n",
       "    }\n",
       "</style>\n",
       "<table border=\"1\" class=\"dataframe\">\n",
       "  <thead>\n",
       "    <tr style=\"text-align: right;\">\n",
       "      <th></th>\n",
       "      <th>Review</th>\n",
       "      <th>True</th>\n",
       "      <th>Tokenized</th>\n",
       "      <th>Tokenized2</th>\n",
       "      <th>Stemmed</th>\n",
       "      <th>Detokenized</th>\n",
       "    </tr>\n",
       "  </thead>\n",
       "  <tbody>\n",
       "    <tr>\n",
       "      <th>524720</th>\n",
       "      <td>casanova's is much more than an awesome pizza ...</td>\n",
       "      <td>0</td>\n",
       "      <td>[casanova, 's, is, much, more, than, an, aweso...</td>\n",
       "      <td>[casanova, 's, much, awesome, pizza, joint, 's...</td>\n",
       "      <td>[casanova, 's, much, awesom, pizza, joint, 's,...</td>\n",
       "      <td>casanova 's much awesom pizza joint 's awesom ...</td>\n",
       "    </tr>\n",
       "    <tr>\n",
       "      <th>477348</th>\n",
       "      <td>we randomly tried this restaurant while walkin...</td>\n",
       "      <td>0</td>\n",
       "      <td>[we, randomly, tried, this, restaurant, while,...</td>\n",
       "      <td>[randomly, tried, restaurant, walking, around,...</td>\n",
       "      <td>[random, tri, restaur, walk, around, venetian,...</td>\n",
       "      <td>random tri restaur walk around venetian wonder...</td>\n",
       "    </tr>\n",
       "    <tr>\n",
       "      <th>1032307</th>\n",
       "      <td>pizza is very good and a great price, i wish t...</td>\n",
       "      <td>0</td>\n",
       "      <td>[pizza, is, very, good, and, a, great, price, ...</td>\n",
       "      <td>[pizza, good, great, price, wish, bigger, pizz...</td>\n",
       "      <td>[pizza, good, great, price, wish, bigger, pizz...</td>\n",
       "      <td>pizza good great price wish bigger pizza diffe...</td>\n",
       "    </tr>\n",
       "    <tr>\n",
       "      <th>492848</th>\n",
       "      <td>always good food. great for my wife who likes ...</td>\n",
       "      <td>0</td>\n",
       "      <td>[always, good, food, ., great, for, my, wife, ...</td>\n",
       "      <td>[always, good, food, great, wife, likes, fried...</td>\n",
       "      <td>[alway, good, food, great, wife, like, fri, fo...</td>\n",
       "      <td>alway good food great wife like fri food ca n'...</td>\n",
       "    </tr>\n",
       "    <tr>\n",
       "      <th>23408</th>\n",
       "      <td>great atmosphere, good food and good service. ...</td>\n",
       "      <td>0</td>\n",
       "      <td>[great, atmosphere, ,, good, food, and, good, ...</td>\n",
       "      <td>[great, atmosphere, good, food, good, service,...</td>\n",
       "      <td>[great, atmospher, good, food, good, servic, b...</td>\n",
       "      <td>great atmospher good food good servic belmont ...</td>\n",
       "    </tr>\n",
       "  </tbody>\n",
       "</table>\n",
       "</div>"
      ],
      "text/plain": [
       "                                                    Review  True  \\\n",
       "524720   casanova's is much more than an awesome pizza ...     0   \n",
       "477348   we randomly tried this restaurant while walkin...     0   \n",
       "1032307  pizza is very good and a great price, i wish t...     0   \n",
       "492848   always good food. great for my wife who likes ...     0   \n",
       "23408    great atmosphere, good food and good service. ...     0   \n",
       "\n",
       "                                                 Tokenized  \\\n",
       "524720   [casanova, 's, is, much, more, than, an, aweso...   \n",
       "477348   [we, randomly, tried, this, restaurant, while,...   \n",
       "1032307  [pizza, is, very, good, and, a, great, price, ...   \n",
       "492848   [always, good, food, ., great, for, my, wife, ...   \n",
       "23408    [great, atmosphere, ,, good, food, and, good, ...   \n",
       "\n",
       "                                                Tokenized2  \\\n",
       "524720   [casanova, 's, much, awesome, pizza, joint, 's...   \n",
       "477348   [randomly, tried, restaurant, walking, around,...   \n",
       "1032307  [pizza, good, great, price, wish, bigger, pizz...   \n",
       "492848   [always, good, food, great, wife, likes, fried...   \n",
       "23408    [great, atmosphere, good, food, good, service,...   \n",
       "\n",
       "                                                   Stemmed  \\\n",
       "524720   [casanova, 's, much, awesom, pizza, joint, 's,...   \n",
       "477348   [random, tri, restaur, walk, around, venetian,...   \n",
       "1032307  [pizza, good, great, price, wish, bigger, pizz...   \n",
       "492848   [alway, good, food, great, wife, like, fri, fo...   \n",
       "23408    [great, atmospher, good, food, good, servic, b...   \n",
       "\n",
       "                                               Detokenized  \n",
       "524720   casanova 's much awesom pizza joint 's awesom ...  \n",
       "477348   random tri restaur walk around venetian wonder...  \n",
       "1032307  pizza good great price wish bigger pizza diffe...  \n",
       "492848   alway good food great wife like fri food ca n'...  \n",
       "23408    great atmospher good food good servic belmont ...  "
      ]
     },
     "execution_count": 119,
     "metadata": {},
     "output_type": "execute_result"
    }
   ],
   "source": [
    "false.head()"
   ]
  },
  {
   "cell_type": "code",
   "execution_count": 120,
   "metadata": {},
   "outputs": [],
   "source": [
    "tfidf2 = TfidfVectorizer(max_features= 300)\n",
    "doc_tfidf_matrix2 = tfidf2.fit_transform(false['Detokenized']).todense()"
   ]
  },
  {
   "cell_type": "code",
   "execution_count": 121,
   "metadata": {},
   "outputs": [],
   "source": [
    "vector2 = pd.DataFrame(doc_tfidf_matrix2, columns = tfidf2.get_feature_names())"
   ]
  },
  {
   "cell_type": "code",
   "execution_count": 139,
   "metadata": {},
   "outputs": [],
   "source": [
    "X_train_2, X_test_2 = train_test_split(vector2, test_size=.2) \n",
    "# estimator= svm.OneClassSVM(nu=0.1, kernel=\"rbf\", gamma=0.1)\n",
    "# estimator.fit(X_train)\n",
    "y_pred_test_2 = estimator.predict(X_test_2)"
   ]
  },
  {
   "cell_type": "code",
   "execution_count": 148,
   "metadata": {},
   "outputs": [],
   "source": [
    "y_test_2 = np.negative(np.ones(shape=(10000,)))"
   ]
  },
  {
   "cell_type": "code",
   "execution_count": 149,
   "metadata": {},
   "outputs": [
    {
     "data": {
      "text/plain": [
       "array([-1., -1., -1., ..., -1., -1., -1.])"
      ]
     },
     "execution_count": 149,
     "metadata": {},
     "output_type": "execute_result"
    }
   ],
   "source": [
    "y_test_2"
   ]
  },
  {
   "cell_type": "code",
   "execution_count": 150,
   "metadata": {},
   "outputs": [
    {
     "data": {
      "text/plain": [
       "array([-1,  1,  1, ...,  1, -1,  1])"
      ]
     },
     "execution_count": 150,
     "metadata": {},
     "output_type": "execute_result"
    }
   ],
   "source": [
    "y_pred_test_2"
   ]
  },
  {
   "cell_type": "code",
   "execution_count": 151,
   "metadata": {},
   "outputs": [
    {
     "data": {
      "text/plain": [
       "{-1: 4257, 1: 5743}"
      ]
     },
     "execution_count": 151,
     "metadata": {},
     "output_type": "execute_result"
    }
   ],
   "source": [
    "unique, counts = np.unique(y_pred_test_2, return_counts=True)\n",
    "\n",
    "dict(zip(unique, counts))"
   ]
  },
  {
   "cell_type": "code",
   "execution_count": 152,
   "metadata": {},
   "outputs": [
    {
     "data": {
      "text/plain": [
       "<BarContainer object of 2 artists>"
      ]
     },
     "execution_count": 152,
     "metadata": {},
     "output_type": "execute_result"
    },
    {
     "data": {
      "image/png": "[encoded data removed]",
      "text/plain": [
       "<Figure size 432x288 with 1 Axes>"
      ]
     },
     "metadata": {
      "needs_background": "light"
     },
     "output_type": "display_data"
    }
   ],
   "source": [
    "fig,ax = plt.subplots()\n",
    "plt.bar(['-1','1'], counts)\n"
   ]
  },
  {
   "cell_type": "code",
   "execution_count": 153,
   "metadata": {},
   "outputs": [
    {
     "data": {
      "text/plain": [
       "0.4257"
      ]
     },
     "execution_count": 153,
     "metadata": {},
     "output_type": "execute_result"
    }
   ],
   "source": [
    "accuracy_score(y_test_2, y_pred_test_2)"
   ]
  },
  {
   "cell_type": "code",
   "execution_count": 154,
   "metadata": {},
   "outputs": [
    {
     "data": {
      "text/plain": [
       "array([[4257, 5743],\n",
       "       [   0,    0]])"
      ]
     },
     "execution_count": 154,
     "metadata": {},
     "output_type": "execute_result"
    }
   ],
   "source": [
    "confusion_matrix(y_test_2, y_pred_test_2) "
   ]
  },
  {
   "cell_type": "code",
   "execution_count": 176,
   "metadata": {},
   "outputs": [
    {
     "name": "stderr",
     "output_type": "stream",
     "text": [
      "/Users/suchaya/anaconda3/lib/python3.7/site-packages/sklearn/metrics/_classification.py:1268: UndefinedMetricWarning: Recall and F-score are ill-defined and being set to 0.0 in labels with no true samples. Use `zero_division` parameter to control this behavior.\n",
      "  _warn_prf(average, modifier, msg_start, len(result))\n"
     ]
    },
    {
     "data": {
      "text/plain": [
       "'              precision    recall  f1-score   support\\n\\n        -1.0       1.00      0.43      0.60     10000\\n         1.0       0.00      0.00      0.00         0\\n\\n    accuracy                           0.43     10000\\n   macro avg       0.50      0.21      0.30     10000\\nweighted avg       1.00      0.43      0.60     10000\\n'"
      ]
     },
     "execution_count": 176,
     "metadata": {},
     "output_type": "execute_result"
    }
   ],
   "source": [
    "classification_report(y_test_2, y_pred_test_2)"
   ]
  },
  {
   "cell_type": "markdown",
   "metadata": {},
   "source": [
    "**try testing half fake, half true reviews**"
   ]
  },
  {
   "cell_type": "code",
   "execution_count": 183,
   "metadata": {},
   "outputs": [],
   "source": [
    "mix = pd.concat([true.Detokenized.sample(25000), false.Detokenized.sample(25000)])"
   ]
  },
  {
   "cell_type": "code",
   "execution_count": 186,
   "metadata": {},
   "outputs": [
    {
     "ename": "AttributeError",
     "evalue": "'DataFrame' object has no attribute 'to_frame'",
     "output_type": "error",
     "traceback": [
      "\u001b[0;31m---------------------------------------------------------------------------\u001b[0m",
      "\u001b[0;31mAttributeError\u001b[0m                            Traceback (most recent call last)",
      "\u001b[0;32m<ipython-input-186-45773f87219d>\u001b[0m in \u001b[0;36m<module>\u001b[0;34m\u001b[0m\n\u001b[0;32m----> 1\u001b[0;31m \u001b[0mmix\u001b[0m \u001b[0;34m=\u001b[0m \u001b[0mmix\u001b[0m\u001b[0;34m.\u001b[0m\u001b[0mto_frame\u001b[0m\u001b[0;34m(\u001b[0m\u001b[0;34m)\u001b[0m\u001b[0;34m\u001b[0m\u001b[0;34m\u001b[0m\u001b[0m\n\u001b[0m",
      "\u001b[0;32m~/anaconda3/lib/python3.7/site-packages/pandas/core/generic.py\u001b[0m in \u001b[0;36m__getattr__\u001b[0;34m(self, name)\u001b[0m\n\u001b[1;32m   5177\u001b[0m             \u001b[0;32mif\u001b[0m \u001b[0mself\u001b[0m\u001b[0;34m.\u001b[0m\u001b[0m_info_axis\u001b[0m\u001b[0;34m.\u001b[0m\u001b[0m_can_hold_identifiers_and_holds_name\u001b[0m\u001b[0;34m(\u001b[0m\u001b[0mname\u001b[0m\u001b[0;34m)\u001b[0m\u001b[0;34m:\u001b[0m\u001b[0;34m\u001b[0m\u001b[0;34m\u001b[0m\u001b[0m\n\u001b[1;32m   5178\u001b[0m                 \u001b[0;32mreturn\u001b[0m \u001b[0mself\u001b[0m\u001b[0;34m[\u001b[0m\u001b[0mname\u001b[0m\u001b[0;34m]\u001b[0m\u001b[0;34m\u001b[0m\u001b[0;34m\u001b[0m\u001b[0m\n\u001b[0;32m-> 5179\u001b[0;31m             \u001b[0;32mreturn\u001b[0m \u001b[0mobject\u001b[0m\u001b[0;34m.\u001b[0m\u001b[0m__getattribute__\u001b[0m\u001b[0;34m(\u001b[0m\u001b[0mself\u001b[0m\u001b[0;34m,\u001b[0m \u001b[0mname\u001b[0m\u001b[0;34m)\u001b[0m\u001b[0;34m\u001b[0m\u001b[0;34m\u001b[0m\u001b[0m\n\u001b[0m\u001b[1;32m   5180\u001b[0m \u001b[0;34m\u001b[0m\u001b[0m\n\u001b[1;32m   5181\u001b[0m     \u001b[0;32mdef\u001b[0m \u001b[0m__setattr__\u001b[0m\u001b[0;34m(\u001b[0m\u001b[0mself\u001b[0m\u001b[0;34m,\u001b[0m \u001b[0mname\u001b[0m\u001b[0;34m,\u001b[0m \u001b[0mvalue\u001b[0m\u001b[0;34m)\u001b[0m\u001b[0;34m:\u001b[0m\u001b[0;34m\u001b[0m\u001b[0;34m\u001b[0m\u001b[0m\n",
      "\u001b[0;31mAttributeError\u001b[0m: 'DataFrame' object has no attribute 'to_frame'"
     ]
    }
   ],
   "source": [
    "mix = mix.to_frame()"
   ]
  },
  {
   "cell_type": "code",
   "execution_count": 193,
   "metadata": {},
   "outputs": [
    {
     "data": {
      "text/html": [
       "<div>\n",
       "<style scoped>\n",
       "    .dataframe tbody tr th:only-of-type {\n",
       "        vertical-align: middle;\n",
       "    }\n",
       "\n",
       "    .dataframe tbody tr th {\n",
       "        vertical-align: top;\n",
       "    }\n",
       "\n",
       "    .dataframe thead th {\n",
       "        text-align: right;\n",
       "    }\n",
       "</style>\n",
       "<table border=\"1\" class=\"dataframe\">\n",
       "  <thead>\n",
       "    <tr style=\"text-align: right;\">\n",
       "      <th></th>\n",
       "      <th>Detokenized</th>\n",
       "    </tr>\n",
       "  </thead>\n",
       "  <tbody>\n",
       "    <tr>\n",
       "      <th>880175</th>\n",
       "      <td>greg f said still worst qdoba charlott portion...</td>\n",
       "    </tr>\n",
       "    <tr>\n",
       "      <th>1374581</th>\n",
       "      <td>took wife mother mother 's day cortez room gol...</td>\n",
       "    </tr>\n",
       "    <tr>\n",
       "      <th>1906371</th>\n",
       "      <td>bewar food disgust ... ..nasti red cheap egg r...</td>\n",
       "    </tr>\n",
       "    <tr>\n",
       "      <th>870862</th>\n",
       "      <td>waffl die belgium say almost delici bit pricey...</td>\n",
       "    </tr>\n",
       "    <tr>\n",
       "      <th>312894</th>\n",
       "      <td>great place ... sold new owner epic fail</td>\n",
       "    </tr>\n",
       "  </tbody>\n",
       "</table>\n",
       "</div>"
      ],
      "text/plain": [
       "                                               Detokenized\n",
       "880175   greg f said still worst qdoba charlott portion...\n",
       "1374581  took wife mother mother 's day cortez room gol...\n",
       "1906371  bewar food disgust ... ..nasti red cheap egg r...\n",
       "870862   waffl die belgium say almost delici bit pricey...\n",
       "312894            great place ... sold new owner epic fail"
      ]
     },
     "execution_count": 193,
     "metadata": {},
     "output_type": "execute_result"
    }
   ],
   "source": [
    "mix.head()"
   ]
  },
  {
   "cell_type": "code",
   "execution_count": 199,
   "metadata": {},
   "outputs": [
    {
     "data": {
      "text/plain": [
       "[1, 1, 1, 1, 1, -1, -1, -1, -1, -1]"
      ]
     },
     "execution_count": 199,
     "metadata": {},
     "output_type": "execute_result"
    }
   ],
   "source": [
    "([1]*5)+([-1]*5)\n"
   ]
  },
  {
   "cell_type": "code",
   "execution_count": 200,
   "metadata": {},
   "outputs": [],
   "source": [
    "mix['y'] = ([1]*25000)+([-1]*25000)"
   ]
  },
  {
   "cell_type": "code",
   "execution_count": 201,
   "metadata": {},
   "outputs": [
    {
     "data": {
      "text/html": [
       "<div>\n",
       "<style scoped>\n",
       "    .dataframe tbody tr th:only-of-type {\n",
       "        vertical-align: middle;\n",
       "    }\n",
       "\n",
       "    .dataframe tbody tr th {\n",
       "        vertical-align: top;\n",
       "    }\n",
       "\n",
       "    .dataframe thead th {\n",
       "        text-align: right;\n",
       "    }\n",
       "</style>\n",
       "<table border=\"1\" class=\"dataframe\">\n",
       "  <thead>\n",
       "    <tr style=\"text-align: right;\">\n",
       "      <th></th>\n",
       "      <th>Detokenized</th>\n",
       "      <th>y</th>\n",
       "    </tr>\n",
       "  </thead>\n",
       "  <tbody>\n",
       "    <tr>\n",
       "      <th>880175</th>\n",
       "      <td>greg f said still worst qdoba charlott portion...</td>\n",
       "      <td>1</td>\n",
       "    </tr>\n",
       "    <tr>\n",
       "      <th>1374581</th>\n",
       "      <td>took wife mother mother 's day cortez room gol...</td>\n",
       "      <td>1</td>\n",
       "    </tr>\n",
       "    <tr>\n",
       "      <th>1906371</th>\n",
       "      <td>bewar food disgust ... ..nasti red cheap egg r...</td>\n",
       "      <td>1</td>\n",
       "    </tr>\n",
       "    <tr>\n",
       "      <th>870862</th>\n",
       "      <td>waffl die belgium say almost delici bit pricey...</td>\n",
       "      <td>1</td>\n",
       "    </tr>\n",
       "    <tr>\n",
       "      <th>312894</th>\n",
       "      <td>great place ... sold new owner epic fail</td>\n",
       "      <td>1</td>\n",
       "    </tr>\n",
       "    <tr>\n",
       "      <th>...</th>\n",
       "      <td>...</td>\n",
       "      <td>...</td>\n",
       "    </tr>\n",
       "    <tr>\n",
       "      <th>628345</th>\n",
       "      <td>super fresh sushi awesom authent great servic ...</td>\n",
       "      <td>-1</td>\n",
       "    </tr>\n",
       "    <tr>\n",
       "      <th>1225177</th>\n",
       "      <td>walk differ restaur walk virgil decid go inste...</td>\n",
       "      <td>-1</td>\n",
       "    </tr>\n",
       "    <tr>\n",
       "      <th>991120</th>\n",
       "      <td>great burger fri take town guest everi chanc g...</td>\n",
       "      <td>-1</td>\n",
       "    </tr>\n",
       "    <tr>\n",
       "      <th>247957</th>\n",
       "      <td>stop lunch great portion realli larg 's delici...</td>\n",
       "      <td>-1</td>\n",
       "    </tr>\n",
       "    <tr>\n",
       "      <th>1005367</th>\n",
       "      <td>servic fast crowd saturday night outback locat...</td>\n",
       "      <td>-1</td>\n",
       "    </tr>\n",
       "  </tbody>\n",
       "</table>\n",
       "<p>50000 rows × 2 columns</p>\n",
       "</div>"
      ],
      "text/plain": [
       "                                               Detokenized  y\n",
       "880175   greg f said still worst qdoba charlott portion...  1\n",
       "1374581  took wife mother mother 's day cortez room gol...  1\n",
       "1906371  bewar food disgust ... ..nasti red cheap egg r...  1\n",
       "870862   waffl die belgium say almost delici bit pricey...  1\n",
       "312894            great place ... sold new owner epic fail  1\n",
       "...                                                    ... ..\n",
       "628345   super fresh sushi awesom authent great servic ... -1\n",
       "1225177  walk differ restaur walk virgil decid go inste... -1\n",
       "991120   great burger fri take town guest everi chanc g... -1\n",
       "247957   stop lunch great portion realli larg 's delici... -1\n",
       "1005367  servic fast crowd saturday night outback locat... -1\n",
       "\n",
       "[50000 rows x 2 columns]"
      ]
     },
     "execution_count": 201,
     "metadata": {},
     "output_type": "execute_result"
    }
   ],
   "source": [
    "mix"
   ]
  },
  {
   "cell_type": "code",
   "execution_count": 234,
   "metadata": {},
   "outputs": [],
   "source": [
    "tfidf3 = TfidfVectorizer(max_features =300)\n",
    "doc_tfidf_matrix3 = tfidf3.fit_transform(mix['Detokenized']).todense()"
   ]
  },
  {
   "cell_type": "code",
   "execution_count": 235,
   "metadata": {},
   "outputs": [],
   "source": [
    "vector3 = pd.DataFrame(doc_tfidf_matrix3, columns = tfidf3.get_feature_names())"
   ]
  },
  {
   "cell_type": "code",
   "execution_count": 236,
   "metadata": {},
   "outputs": [],
   "source": [
    "vector3['label'] = ([1]*25000)+([-1]*25000)"
   ]
  },
  {
   "cell_type": "code",
   "execution_count": 237,
   "metadata": {},
   "outputs": [
    {
     "data": {
      "text/html": [
       "<div>\n",
       "<style scoped>\n",
       "    .dataframe tbody tr th:only-of-type {\n",
       "        vertical-align: middle;\n",
       "    }\n",
       "\n",
       "    .dataframe tbody tr th {\n",
       "        vertical-align: top;\n",
       "    }\n",
       "\n",
       "    .dataframe thead th {\n",
       "        text-align: right;\n",
       "    }\n",
       "</style>\n",
       "<table border=\"1\" class=\"dataframe\">\n",
       "  <thead>\n",
       "    <tr style=\"text-align: right;\">\n",
       "      <th></th>\n",
       "      <th>10</th>\n",
       "      <th>20</th>\n",
       "      <th>absolut</th>\n",
       "      <th>actual</th>\n",
       "      <th>almost</th>\n",
       "      <th>also</th>\n",
       "      <th>alway</th>\n",
       "      <th>amaz</th>\n",
       "      <th>anoth</th>\n",
       "      <th>anyth</th>\n",
       "      <th>...</th>\n",
       "      <th>wine</th>\n",
       "      <th>wing</th>\n",
       "      <th>without</th>\n",
       "      <th>wo</th>\n",
       "      <th>wonder</th>\n",
       "      <th>work</th>\n",
       "      <th>worth</th>\n",
       "      <th>would</th>\n",
       "      <th>year</th>\n",
       "      <th>label</th>\n",
       "    </tr>\n",
       "  </thead>\n",
       "  <tbody>\n",
       "    <tr>\n",
       "      <th>0</th>\n",
       "      <td>0.0</td>\n",
       "      <td>0.0</td>\n",
       "      <td>0.0</td>\n",
       "      <td>0.264692</td>\n",
       "      <td>0.000000</td>\n",
       "      <td>0.000000</td>\n",
       "      <td>0.0</td>\n",
       "      <td>0.0</td>\n",
       "      <td>0.000000</td>\n",
       "      <td>0.0</td>\n",
       "      <td>...</td>\n",
       "      <td>0.0</td>\n",
       "      <td>0.000000</td>\n",
       "      <td>0.0</td>\n",
       "      <td>0.0</td>\n",
       "      <td>0.0</td>\n",
       "      <td>0.0</td>\n",
       "      <td>0.230064</td>\n",
       "      <td>0.000000</td>\n",
       "      <td>0.0</td>\n",
       "      <td>1</td>\n",
       "    </tr>\n",
       "    <tr>\n",
       "      <th>1</th>\n",
       "      <td>0.0</td>\n",
       "      <td>0.0</td>\n",
       "      <td>0.0</td>\n",
       "      <td>0.000000</td>\n",
       "      <td>0.000000</td>\n",
       "      <td>0.131965</td>\n",
       "      <td>0.0</td>\n",
       "      <td>0.0</td>\n",
       "      <td>0.176166</td>\n",
       "      <td>0.0</td>\n",
       "      <td>...</td>\n",
       "      <td>0.0</td>\n",
       "      <td>0.000000</td>\n",
       "      <td>0.0</td>\n",
       "      <td>0.0</td>\n",
       "      <td>0.0</td>\n",
       "      <td>0.0</td>\n",
       "      <td>0.000000</td>\n",
       "      <td>0.000000</td>\n",
       "      <td>0.0</td>\n",
       "      <td>1</td>\n",
       "    </tr>\n",
       "    <tr>\n",
       "      <th>2</th>\n",
       "      <td>0.0</td>\n",
       "      <td>0.0</td>\n",
       "      <td>0.0</td>\n",
       "      <td>0.000000</td>\n",
       "      <td>0.000000</td>\n",
       "      <td>0.000000</td>\n",
       "      <td>0.0</td>\n",
       "      <td>0.0</td>\n",
       "      <td>0.000000</td>\n",
       "      <td>0.0</td>\n",
       "      <td>...</td>\n",
       "      <td>0.0</td>\n",
       "      <td>0.000000</td>\n",
       "      <td>0.0</td>\n",
       "      <td>0.0</td>\n",
       "      <td>0.0</td>\n",
       "      <td>0.0</td>\n",
       "      <td>0.000000</td>\n",
       "      <td>0.000000</td>\n",
       "      <td>0.0</td>\n",
       "      <td>1</td>\n",
       "    </tr>\n",
       "    <tr>\n",
       "      <th>3</th>\n",
       "      <td>0.0</td>\n",
       "      <td>0.0</td>\n",
       "      <td>0.0</td>\n",
       "      <td>0.000000</td>\n",
       "      <td>0.299644</td>\n",
       "      <td>0.195524</td>\n",
       "      <td>0.0</td>\n",
       "      <td>0.0</td>\n",
       "      <td>0.000000</td>\n",
       "      <td>0.0</td>\n",
       "      <td>...</td>\n",
       "      <td>0.0</td>\n",
       "      <td>0.000000</td>\n",
       "      <td>0.0</td>\n",
       "      <td>0.0</td>\n",
       "      <td>0.0</td>\n",
       "      <td>0.0</td>\n",
       "      <td>0.246603</td>\n",
       "      <td>0.000000</td>\n",
       "      <td>0.0</td>\n",
       "      <td>1</td>\n",
       "    </tr>\n",
       "    <tr>\n",
       "      <th>4</th>\n",
       "      <td>0.0</td>\n",
       "      <td>0.0</td>\n",
       "      <td>0.0</td>\n",
       "      <td>0.000000</td>\n",
       "      <td>0.000000</td>\n",
       "      <td>0.000000</td>\n",
       "      <td>0.0</td>\n",
       "      <td>0.0</td>\n",
       "      <td>0.000000</td>\n",
       "      <td>0.0</td>\n",
       "      <td>...</td>\n",
       "      <td>0.0</td>\n",
       "      <td>0.000000</td>\n",
       "      <td>0.0</td>\n",
       "      <td>0.0</td>\n",
       "      <td>0.0</td>\n",
       "      <td>0.0</td>\n",
       "      <td>0.000000</td>\n",
       "      <td>0.000000</td>\n",
       "      <td>0.0</td>\n",
       "      <td>1</td>\n",
       "    </tr>\n",
       "    <tr>\n",
       "      <th>...</th>\n",
       "      <td>...</td>\n",
       "      <td>...</td>\n",
       "      <td>...</td>\n",
       "      <td>...</td>\n",
       "      <td>...</td>\n",
       "      <td>...</td>\n",
       "      <td>...</td>\n",
       "      <td>...</td>\n",
       "      <td>...</td>\n",
       "      <td>...</td>\n",
       "      <td>...</td>\n",
       "      <td>...</td>\n",
       "      <td>...</td>\n",
       "      <td>...</td>\n",
       "      <td>...</td>\n",
       "      <td>...</td>\n",
       "      <td>...</td>\n",
       "      <td>...</td>\n",
       "      <td>...</td>\n",
       "      <td>...</td>\n",
       "      <td>...</td>\n",
       "    </tr>\n",
       "    <tr>\n",
       "      <th>49995</th>\n",
       "      <td>0.0</td>\n",
       "      <td>0.0</td>\n",
       "      <td>0.0</td>\n",
       "      <td>0.000000</td>\n",
       "      <td>0.000000</td>\n",
       "      <td>0.000000</td>\n",
       "      <td>0.0</td>\n",
       "      <td>0.0</td>\n",
       "      <td>0.000000</td>\n",
       "      <td>0.0</td>\n",
       "      <td>...</td>\n",
       "      <td>0.0</td>\n",
       "      <td>0.000000</td>\n",
       "      <td>0.0</td>\n",
       "      <td>0.0</td>\n",
       "      <td>0.0</td>\n",
       "      <td>0.0</td>\n",
       "      <td>0.000000</td>\n",
       "      <td>0.000000</td>\n",
       "      <td>0.0</td>\n",
       "      <td>-1</td>\n",
       "    </tr>\n",
       "    <tr>\n",
       "      <th>49996</th>\n",
       "      <td>0.0</td>\n",
       "      <td>0.0</td>\n",
       "      <td>0.0</td>\n",
       "      <td>0.000000</td>\n",
       "      <td>0.000000</td>\n",
       "      <td>0.000000</td>\n",
       "      <td>0.0</td>\n",
       "      <td>0.0</td>\n",
       "      <td>0.000000</td>\n",
       "      <td>0.0</td>\n",
       "      <td>...</td>\n",
       "      <td>0.0</td>\n",
       "      <td>0.000000</td>\n",
       "      <td>0.0</td>\n",
       "      <td>0.0</td>\n",
       "      <td>0.0</td>\n",
       "      <td>0.0</td>\n",
       "      <td>0.000000</td>\n",
       "      <td>0.209816</td>\n",
       "      <td>0.0</td>\n",
       "      <td>-1</td>\n",
       "    </tr>\n",
       "    <tr>\n",
       "      <th>49997</th>\n",
       "      <td>0.0</td>\n",
       "      <td>0.0</td>\n",
       "      <td>0.0</td>\n",
       "      <td>0.000000</td>\n",
       "      <td>0.000000</td>\n",
       "      <td>0.000000</td>\n",
       "      <td>0.0</td>\n",
       "      <td>0.0</td>\n",
       "      <td>0.000000</td>\n",
       "      <td>0.0</td>\n",
       "      <td>...</td>\n",
       "      <td>0.0</td>\n",
       "      <td>0.000000</td>\n",
       "      <td>0.0</td>\n",
       "      <td>0.0</td>\n",
       "      <td>0.0</td>\n",
       "      <td>0.0</td>\n",
       "      <td>0.000000</td>\n",
       "      <td>0.000000</td>\n",
       "      <td>0.0</td>\n",
       "      <td>-1</td>\n",
       "    </tr>\n",
       "    <tr>\n",
       "      <th>49998</th>\n",
       "      <td>0.0</td>\n",
       "      <td>0.0</td>\n",
       "      <td>0.0</td>\n",
       "      <td>0.000000</td>\n",
       "      <td>0.000000</td>\n",
       "      <td>0.113578</td>\n",
       "      <td>0.0</td>\n",
       "      <td>0.0</td>\n",
       "      <td>0.000000</td>\n",
       "      <td>0.0</td>\n",
       "      <td>...</td>\n",
       "      <td>0.0</td>\n",
       "      <td>0.178056</td>\n",
       "      <td>0.0</td>\n",
       "      <td>0.0</td>\n",
       "      <td>0.0</td>\n",
       "      <td>0.0</td>\n",
       "      <td>0.000000</td>\n",
       "      <td>0.207678</td>\n",
       "      <td>0.0</td>\n",
       "      <td>-1</td>\n",
       "    </tr>\n",
       "    <tr>\n",
       "      <th>49999</th>\n",
       "      <td>0.0</td>\n",
       "      <td>0.0</td>\n",
       "      <td>0.0</td>\n",
       "      <td>0.000000</td>\n",
       "      <td>0.000000</td>\n",
       "      <td>0.000000</td>\n",
       "      <td>0.0</td>\n",
       "      <td>0.0</td>\n",
       "      <td>0.000000</td>\n",
       "      <td>0.0</td>\n",
       "      <td>...</td>\n",
       "      <td>0.0</td>\n",
       "      <td>0.000000</td>\n",
       "      <td>0.0</td>\n",
       "      <td>0.0</td>\n",
       "      <td>0.0</td>\n",
       "      <td>0.0</td>\n",
       "      <td>0.000000</td>\n",
       "      <td>0.000000</td>\n",
       "      <td>0.0</td>\n",
       "      <td>-1</td>\n",
       "    </tr>\n",
       "  </tbody>\n",
       "</table>\n",
       "<p>50000 rows × 301 columns</p>\n",
       "</div>"
      ],
      "text/plain": [
       "        10   20  absolut    actual    almost      also  alway  amaz     anoth  \\\n",
       "0      0.0  0.0      0.0  0.264692  0.000000  0.000000    0.0   0.0  0.000000   \n",
       "1      0.0  0.0      0.0  0.000000  0.000000  0.131965    0.0   0.0  0.176166   \n",
       "2      0.0  0.0      0.0  0.000000  0.000000  0.000000    0.0   0.0  0.000000   \n",
       "3      0.0  0.0      0.0  0.000000  0.299644  0.195524    0.0   0.0  0.000000   \n",
       "4      0.0  0.0      0.0  0.000000  0.000000  0.000000    0.0   0.0  0.000000   \n",
       "...    ...  ...      ...       ...       ...       ...    ...   ...       ...   \n",
       "49995  0.0  0.0      0.0  0.000000  0.000000  0.000000    0.0   0.0  0.000000   \n",
       "49996  0.0  0.0      0.0  0.000000  0.000000  0.000000    0.0   0.0  0.000000   \n",
       "49997  0.0  0.0      0.0  0.000000  0.000000  0.000000    0.0   0.0  0.000000   \n",
       "49998  0.0  0.0      0.0  0.000000  0.000000  0.113578    0.0   0.0  0.000000   \n",
       "49999  0.0  0.0      0.0  0.000000  0.000000  0.000000    0.0   0.0  0.000000   \n",
       "\n",
       "       anyth  ...  wine      wing  without   wo  wonder  work     worth  \\\n",
       "0        0.0  ...   0.0  0.000000      0.0  0.0     0.0   0.0  0.230064   \n",
       "1        0.0  ...   0.0  0.000000      0.0  0.0     0.0   0.0  0.000000   \n",
       "2        0.0  ...   0.0  0.000000      0.0  0.0     0.0   0.0  0.000000   \n",
       "3        0.0  ...   0.0  0.000000      0.0  0.0     0.0   0.0  0.246603   \n",
       "4        0.0  ...   0.0  0.000000      0.0  0.0     0.0   0.0  0.000000   \n",
       "...      ...  ...   ...       ...      ...  ...     ...   ...       ...   \n",
       "49995    0.0  ...   0.0  0.000000      0.0  0.0     0.0   0.0  0.000000   \n",
       "49996    0.0  ...   0.0  0.000000      0.0  0.0     0.0   0.0  0.000000   \n",
       "49997    0.0  ...   0.0  0.000000      0.0  0.0     0.0   0.0  0.000000   \n",
       "49998    0.0  ...   0.0  0.178056      0.0  0.0     0.0   0.0  0.000000   \n",
       "49999    0.0  ...   0.0  0.000000      0.0  0.0     0.0   0.0  0.000000   \n",
       "\n",
       "          would  year  label  \n",
       "0      0.000000   0.0      1  \n",
       "1      0.000000   0.0      1  \n",
       "2      0.000000   0.0      1  \n",
       "3      0.000000   0.0      1  \n",
       "4      0.000000   0.0      1  \n",
       "...         ...   ...    ...  \n",
       "49995  0.000000   0.0     -1  \n",
       "49996  0.209816   0.0     -1  \n",
       "49997  0.000000   0.0     -1  \n",
       "49998  0.207678   0.0     -1  \n",
       "49999  0.000000   0.0     -1  \n",
       "\n",
       "[50000 rows x 301 columns]"
      ]
     },
     "execution_count": 237,
     "metadata": {},
     "output_type": "execute_result"
    }
   ],
   "source": [
    "vector3"
   ]
  },
  {
   "cell_type": "code",
   "execution_count": 238,
   "metadata": {},
   "outputs": [],
   "source": [
    "X = vector3.iloc[:,:-1]\n",
    "y = vector3.iloc[:,-1]"
   ]
  },
  {
   "cell_type": "code",
   "execution_count": 239,
   "metadata": {},
   "outputs": [],
   "source": [
    "X_train_3, X_test_3, y_train_3, y_test_3 = train_test_split(X,y, test_size=.2) \n",
    "y_pred_test_3 = estimator.predict(X_test_3)"
   ]
  },
  {
   "cell_type": "code",
   "execution_count": 240,
   "metadata": {},
   "outputs": [
    {
     "data": {
      "text/plain": [
       "0.5564"
      ]
     },
     "execution_count": 240,
     "metadata": {},
     "output_type": "execute_result"
    }
   ],
   "source": [
    "accuracy_score(y_test_3, y_pred_test_3) "
   ]
  },
  {
   "cell_type": "code",
   "execution_count": 241,
   "metadata": {},
   "outputs": [
    {
     "data": {
      "text/plain": [
       "array([[1673, 3316],\n",
       "       [1120, 3891]])"
      ]
     },
     "execution_count": 241,
     "metadata": {},
     "output_type": "execute_result"
    }
   ],
   "source": [
    "confusion_matrix(y_test_3, y_pred_test_3) "
   ]
  },
  {
   "cell_type": "markdown",
   "metadata": {},
   "source": [
    "# Sephora - use to test the model on my real data"
   ]
  },
  {
   "cell_type": "code",
   "execution_count": 156,
   "metadata": {},
   "outputs": [],
   "source": [
    "sephora = pd.read_csv('Sephora_review.csv')"
   ]
  },
  {
   "cell_type": "code",
   "execution_count": 157,
   "metadata": {},
   "outputs": [
    {
     "name": "stdout",
     "output_type": "stream",
     "text": [
      "<class 'pandas.core.frame.DataFrame'>\n",
      "RangeIndex: 1000 entries, 0 to 999\n",
      "Data columns (total 11 columns):\n",
      "product_id           1000 non-null object\n",
      "review_title         901 non-null object\n",
      "review_text          1000 non-null object\n",
      "rating               1000 non-null int64\n",
      "age_range            0 non-null float64\n",
      "skin_type            417 non-null object\n",
      "skin_tone            112 non-null object\n",
      "eye_color            0 non-null float64\n",
      "reviewer_username    1000 non-null object\n",
      "tags                 447 non-null object\n",
      "review_id            1000 non-null object\n",
      "dtypes: float64(2), int64(1), object(8)\n",
      "memory usage: 86.1+ KB\n"
     ]
    }
   ],
   "source": [
    "sephora.info()"
   ]
  },
  {
   "cell_type": "code",
   "execution_count": 158,
   "metadata": {},
   "outputs": [
    {
     "data": {
      "text/html": [
       "<div>\n",
       "<style scoped>\n",
       "    .dataframe tbody tr th:only-of-type {\n",
       "        vertical-align: middle;\n",
       "    }\n",
       "\n",
       "    .dataframe tbody tr th {\n",
       "        vertical-align: top;\n",
       "    }\n",
       "\n",
       "    .dataframe thead th {\n",
       "        text-align: right;\n",
       "    }\n",
       "</style>\n",
       "<table border=\"1\" class=\"dataframe\">\n",
       "  <thead>\n",
       "    <tr style=\"text-align: right;\">\n",
       "      <th></th>\n",
       "      <th>product_id</th>\n",
       "      <th>review_title</th>\n",
       "      <th>review_text</th>\n",
       "      <th>rating</th>\n",
       "      <th>age_range</th>\n",
       "      <th>skin_type</th>\n",
       "      <th>skin_tone</th>\n",
       "      <th>eye_color</th>\n",
       "      <th>reviewer_username</th>\n",
       "      <th>tags</th>\n",
       "      <th>review_id</th>\n",
       "    </tr>\n",
       "  </thead>\n",
       "  <tbody>\n",
       "    <tr>\n",
       "      <th>0</th>\n",
       "      <td>P38217</td>\n",
       "      <td>Worth the money</td>\n",
       "      <td>Sometimes I stray from this cleanser, but I al...</td>\n",
       "      <td>5</td>\n",
       "      <td>NaN</td>\n",
       "      <td>normal</td>\n",
       "      <td>light</td>\n",
       "      <td>NaN</td>\n",
       "      <td>katechatte</td>\n",
       "      <td>{foamy,exfoliating}</td>\n",
       "      <td>6611717f-2636-4756-bf36-66c81cc267a7</td>\n",
       "    </tr>\n",
       "    <tr>\n",
       "      <th>1</th>\n",
       "      <td>P38217</td>\n",
       "      <td>Great</td>\n",
       "      <td>I am a 41 year old African American woman with...</td>\n",
       "      <td>5</td>\n",
       "      <td>NaN</td>\n",
       "      <td>combination</td>\n",
       "      <td>deep</td>\n",
       "      <td>NaN</td>\n",
       "      <td>snook41</td>\n",
       "      <td>{foamy}</td>\n",
       "      <td>e7d3307e-02ff-45a1-8fc3-6bd628bedd86</td>\n",
       "    </tr>\n",
       "    <tr>\n",
       "      <th>2</th>\n",
       "      <td>P38217</td>\n",
       "      <td>Great Product</td>\n",
       "      <td>I'm really enjoying this product. Received a s...</td>\n",
       "      <td>5</td>\n",
       "      <td>NaN</td>\n",
       "      <td>combination</td>\n",
       "      <td>olive</td>\n",
       "      <td>NaN</td>\n",
       "      <td>wahinewarrior</td>\n",
       "      <td>{foamy,milky,exfoliating}</td>\n",
       "      <td>4188d728-fde6-4d06-984e-164cca2b8781</td>\n",
       "    </tr>\n",
       "    <tr>\n",
       "      <th>3</th>\n",
       "      <td>P38217</td>\n",
       "      <td>Nice, but not great for combination skin</td>\n",
       "      <td>I tried this cleanser at a friends house, and ...</td>\n",
       "      <td>3</td>\n",
       "      <td>NaN</td>\n",
       "      <td>combination</td>\n",
       "      <td>fair</td>\n",
       "      <td>NaN</td>\n",
       "      <td>jenlines22</td>\n",
       "      <td>{hydrating,creamy}</td>\n",
       "      <td>248c904c-6e30-4929-8228-87b03ad7a921</td>\n",
       "    </tr>\n",
       "    <tr>\n",
       "      <th>4</th>\n",
       "      <td>P38217</td>\n",
       "      <td>great moisturizer</td>\n",
       "      <td>leaves the skin feeling fresh and revived... j...</td>\n",
       "      <td>5</td>\n",
       "      <td>NaN</td>\n",
       "      <td>dry</td>\n",
       "      <td>light</td>\n",
       "      <td>NaN</td>\n",
       "      <td>jessea</td>\n",
       "      <td>{exfoliating}</td>\n",
       "      <td>654bdb99-9371-4440-a540-0dd2a73da339</td>\n",
       "    </tr>\n",
       "  </tbody>\n",
       "</table>\n",
       "</div>"
      ],
      "text/plain": [
       "  product_id                              review_title  \\\n",
       "0     P38217                           Worth the money   \n",
       "1     P38217                                     Great   \n",
       "2     P38217                             Great Product   \n",
       "3     P38217  Nice, but not great for combination skin   \n",
       "4     P38217                         great moisturizer   \n",
       "\n",
       "                                         review_text  rating  age_range  \\\n",
       "0  Sometimes I stray from this cleanser, but I al...       5        NaN   \n",
       "1  I am a 41 year old African American woman with...       5        NaN   \n",
       "2  I'm really enjoying this product. Received a s...       5        NaN   \n",
       "3  I tried this cleanser at a friends house, and ...       3        NaN   \n",
       "4  leaves the skin feeling fresh and revived... j...       5        NaN   \n",
       "\n",
       "     skin_type skin_tone  eye_color reviewer_username  \\\n",
       "0       normal     light        NaN        katechatte   \n",
       "1  combination      deep        NaN           snook41   \n",
       "2  combination     olive        NaN     wahinewarrior   \n",
       "3  combination      fair        NaN        jenlines22   \n",
       "4          dry     light        NaN            jessea   \n",
       "\n",
       "                        tags                             review_id  \n",
       "0        {foamy,exfoliating}  6611717f-2636-4756-bf36-66c81cc267a7  \n",
       "1                    {foamy}  e7d3307e-02ff-45a1-8fc3-6bd628bedd86  \n",
       "2  {foamy,milky,exfoliating}  4188d728-fde6-4d06-984e-164cca2b8781  \n",
       "3         {hydrating,creamy}  248c904c-6e30-4929-8228-87b03ad7a921  \n",
       "4              {exfoliating}  654bdb99-9371-4440-a540-0dd2a73da339  "
      ]
     },
     "execution_count": 158,
     "metadata": {},
     "output_type": "execute_result"
    }
   ],
   "source": [
    "sephora.head()"
   ]
  },
  {
   "cell_type": "code",
   "execution_count": null,
   "metadata": {},
   "outputs": [],
   "source": []
  },
  {
   "cell_type": "code",
   "execution_count": null,
   "metadata": {},
   "outputs": [],
   "source": []
  },
  {
   "cell_type": "code",
   "execution_count": null,
   "metadata": {},
   "outputs": [],
   "source": []
  },
  {
   "cell_type": "code",
   "execution_count": null,
   "metadata": {},
   "outputs": [],
   "source": []
  },
  {
   "cell_type": "code",
   "execution_count": null,
   "metadata": {},
   "outputs": [],
   "source": []
  }
 ],
 "metadata": {
  "kernelspec": {
   "display_name": "Python 3",
   "language": "python",
   "name": "python3"
  },
  "language_info": {
   "codemirror_mode": {
    "name": "ipython",
    "version": 3
   },
   "file_extension": ".py",
   "mimetype": "text/x-python",
   "name": "python",
   "nbconvert_exporter": "python",
   "pygments_lexer": "ipython3",
   "version": "3.7.1"
  }
 },
 "nbformat": 4,
 "nbformat_minor": 2
}
