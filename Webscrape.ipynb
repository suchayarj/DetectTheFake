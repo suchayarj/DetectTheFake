{
 "cells": [
  {
   "cell_type": "code",
   "execution_count": 40,
   "metadata": {},
   "outputs": [],
   "source": [
    "import warnings\n",
    "warnings.filterwarnings('ignore')\n",
    "\n",
    "from pymongo import MongoClient\n",
    "import pprint\n",
    "\n",
    "import copy\n",
    "import pandas as pd\n",
    "\n",
    "# Requests sends and recieves HTTP requests.\n",
    "import requests \n",
    "# Beautiful Soup parses HTML documents in python.\n",
    "from bs4 import BeautifulSoup as soup\n",
    "\n",
    "from urllib.request import urlopen as uReq\n",
    "from collections import OrderedDict\n",
    "\n",
    "###############"
   ]
  },
  {
   "cell_type": "code",
   "execution_count": 2,
   "metadata": {},
   "outputs": [],
   "source": [
    "my_url = 'https://www.makeupalley.com/product/searching?Brand=0&BrandName=&CategoryID=7&q='"
   ]
  },
  {
   "cell_type": "code",
   "execution_count": 7,
   "metadata": {},
   "outputs": [],
   "source": [
    "#opening connection, download the webpage\n",
    "uClient = uReq(my_url)\n",
    "#get html\n",
    "page_html = uClient.read()\n",
    "#close the request\n",
    "uClient.close()"
   ]
  },
  {
   "cell_type": "code",
   "execution_count": 8,
   "metadata": {},
   "outputs": [],
   "source": [
    "request(my_url)"
   ]
  },
  {
   "cell_type": "code",
   "execution_count": 9,
   "metadata": {},
   "outputs": [],
   "source": [
    "#html parser\n",
    "page_soup = soup(page_html, \"html.parser\")"
   ]
  },
  {
   "cell_type": "code",
   "execution_count": 10,
   "metadata": {},
   "outputs": [
    {
     "data": {
      "text/plain": [
       "<h1><a href=\"/\" routerlink=\"/\"><img alt=\"MakeupAlley\" class=\"mua-logo-pic\" src=\"../../../img/logo/logo-mobile.svg\"/></a></h1>"
      ]
     },
     "execution_count": 10,
     "metadata": {},
     "output_type": "execute_result"
    }
   ],
   "source": [
    "page_soup.h1"
   ]
  },
  {
   "cell_type": "code",
   "execution_count": 11,
   "metadata": {},
   "outputs": [
    {
     "data": {
      "text/plain": [
       "<p class=\"results-info\"> Displaying results 1-15 of 24,733 results found </p>"
      ]
     },
     "execution_count": 11,
     "metadata": {},
     "output_type": "execute_result"
    }
   ],
   "source": [
    "page_soup.p"
   ]
  },
  {
   "cell_type": "code",
   "execution_count": 12,
   "metadata": {},
   "outputs": [],
   "source": [
    "links = page_soup.findAll('a',{'class':'item-name'})"
   ]
  },
  {
   "cell_type": "code",
   "execution_count": 13,
   "metadata": {},
   "outputs": [
    {
     "data": {
      "text/plain": [
       "30"
      ]
     },
     "execution_count": 13,
     "metadata": {},
     "output_type": "execute_result"
    }
   ],
   "source": [
    "len(links)"
   ]
  },
  {
   "cell_type": "code",
   "execution_count": 14,
   "metadata": {},
   "outputs": [
    {
     "data": {
      "text/plain": [
       "15"
      ]
     },
     "execution_count": 14,
     "metadata": {},
     "output_type": "execute_result"
    }
   ],
   "source": [
    "#use OrderedDict to preserve the order\n",
    "links = list(OrderedDict.fromkeys(links))\n",
    "len(links)"
   ]
  },
  {
   "cell_type": "code",
   "execution_count": 19,
   "metadata": {},
   "outputs": [
    {
     "data": {
      "text/plain": [
       "'/product/showreview.asp/ItemId=206387/Detox-in-a-Jar-Exfoliating-Face-Mask/Tula/Masks'"
      ]
     },
     "execution_count": 19,
     "metadata": {},
     "output_type": "execute_result"
    }
   ],
   "source": [
    "links[0]['href']"
   ]
  },
  {
   "cell_type": "code",
   "execution_count": 20,
   "metadata": {},
   "outputs": [],
   "source": [
    "#get 15 product links from each page\n",
    "prod_url = []\n",
    "for l in links:\n",
    "    prod_url.append('https://www.makeupalley.com{}'.format(l['href']))"
   ]
  },
  {
   "cell_type": "code",
   "execution_count": 21,
   "metadata": {},
   "outputs": [
    {
     "data": {
      "text/plain": [
       "'Detox in a Jar Exfoliating Face MaskTula'"
      ]
     },
     "execution_count": 21,
     "metadata": {},
     "output_type": "execute_result"
    }
   ],
   "source": [
    "#get product name\n",
    "uClient = uReq(prod_url[0])\n",
    "page_html = uClient.read()\n",
    "uClient.close()\n",
    "page_soup = soup(page_html, 'html.parser')\n",
    "product = page_soup.find('div',{'class':'headline'}).get_text()\n",
    "product"
   ]
  },
  {
   "cell_type": "code",
   "execution_count": 24,
   "metadata": {},
   "outputs": [
    {
     "data": {
      "text/plain": [
       "'Tula'"
      ]
     },
     "execution_count": 24,
     "metadata": {},
     "output_type": "execute_result"
    }
   ],
   "source": [
    "#brand name\n",
    "uClient = uReq(prod_url[0])\n",
    "page_html = uClient.read()\n",
    "uClient.close()\n",
    "page_soup = soup(page_html, 'html.parser')\n",
    "brand = page_soup.find('span',{'class':'brand'}).get_text()\n",
    "brand"
   ]
  },
  {
   "cell_type": "code",
   "execution_count": 31,
   "metadata": {},
   "outputs": [
    {
     "name": "stdout",
     "output_type": "stream",
     "text": [
      "['flairgirl8']\n"
     ]
    }
   ],
   "source": [
    "#User names list\n",
    "uClient = uReq(prod_url[0])\n",
    "page_html = uClient.read()\n",
    "uClient.close()\n",
    "page_soup = soup(page_html, 'html.parser')\n",
    "user = page_soup.find('div',{'class':'__UserLink__'}).get_text()\n",
    "# users = []\n",
    "# for i in range(len(user)):\n",
    "#     users.append(user[i].get_text())\n",
    "print(users)"
   ]
  },
  {
   "cell_type": "code",
   "execution_count": 32,
   "metadata": {},
   "outputs": [
    {
     "name": "stdout",
     "output_type": "stream",
     "text": [
      "This is a light blue clay-based mask. It has a light, powdery scent. Easy to use. It contains lactic acid to gently exfoliate skin and also has a small amount of scrubbing beads in it. I left this on my skin for 10 minutes and washed off. My skin looked and felt smoother and softer. \n"
     ]
    }
   ],
   "source": [
    "#try reading reviews from first link from first page\n",
    "\n",
    "uClient = uReq(prod_url[0])\n",
    "page_html = uClient.read()\n",
    "uClient.close()\n",
    "page_soup = soup(page_html, 'html.parser')\n",
    "review = page_soup.find('span',{'class': 'review-text'}).get_text()\n",
    "# reviews = []\n",
    "# for i in range(len(review)):\n",
    "#     reviews.append(review[i].get_text())\n",
    "print(review)\n"
   ]
  },
  {
   "cell_type": "code",
   "execution_count": 36,
   "metadata": {},
   "outputs": [
    {
     "name": "stdout",
     "output_type": "stream",
     "text": [
      "https://www.makeupalley.com/product/showreview.asp/ItemId=74011/Vitamin-E-Skin-Care-Cream/Fruit-Of-The-Earth/Moisturizers?page=1#reviews\n",
      "https://www.makeupalley.com/product/showreview.asp/ItemId=74011/Vitamin-E-Skin-Care-Cream/Fruit-Of-The-Earth/Moisturizers?page=2#reviews\n",
      "https://www.makeupalley.com/product/showreview.asp/ItemId=74011/Vitamin-E-Skin-Care-Cream/Fruit-Of-The-Earth/Moisturizers?page=3#reviews\n",
      "https://www.makeupalley.com/product/showreview.asp/ItemId=74011/Vitamin-E-Skin-Care-Cream/Fruit-Of-The-Earth/Moisturizers?page=4#reviews\n",
      "https://www.makeupalley.com/product/showreview.asp/ItemId=197848/Kora-Organics-Noni-Glow-Face-Oil/KORA-Organics/Treatments-(Face)?page=1#reviews\n",
      "https://www.makeupalley.com/product/showreview.asp/ItemId=197848/Kora-Organics-Noni-Glow-Face-Oil/KORA-Organics/Treatments-(Face)?page=2#reviews\n",
      "https://www.makeupalley.com/product/showreview.asp/ItemId=197848/Kora-Organics-Noni-Glow-Face-Oil/KORA-Organics/Treatments-(Face)?page=3#reviews\n",
      "https://www.makeupalley.com/product/showreview.asp/ItemId=197848/Kora-Organics-Noni-Glow-Face-Oil/KORA-Organics/Treatments-(Face)?page=4#reviews\n",
      "https://www.makeupalley.com/product/showreview.asp/ItemId=143129/Face-Cream/Mad-Hippie/Moisturizers?page=1#reviews\n",
      "https://www.makeupalley.com/product/showreview.asp/ItemId=143129/Face-Cream/Mad-Hippie/Moisturizers?page=2#reviews\n",
      "https://www.makeupalley.com/product/showreview.asp/ItemId=143129/Face-Cream/Mad-Hippie/Moisturizers?page=3#reviews\n",
      "https://www.makeupalley.com/product/showreview.asp/ItemId=143129/Face-Cream/Mad-Hippie/Moisturizers?page=4#reviews\n",
      "https://www.makeupalley.com/product/showreview.asp/ItemId=143127/Cream-Cleanser/Mad-Hippie/Cleansers?page=1#reviews\n",
      "https://www.makeupalley.com/product/showreview.asp/ItemId=143127/Cream-Cleanser/Mad-Hippie/Cleansers?page=2#reviews\n",
      "https://www.makeupalley.com/product/showreview.asp/ItemId=143127/Cream-Cleanser/Mad-Hippie/Cleansers?page=3#reviews\n",
      "https://www.makeupalley.com/product/showreview.asp/ItemId=143127/Cream-Cleanser/Mad-Hippie/Cleansers?page=4#reviews\n"
     ]
    }
   ],
   "source": [
    "##need to figure out how to find out the total pages for each product review\n",
    "# for i in range(1,5):\n",
    "#     for j in range(1,5):\n",
    "#         print(prod_url[i]+'?page={}#reviews'.format(j))"
   ]
  },
  {
   "cell_type": "markdown",
   "metadata": {},
   "source": [
    "**Create some functions to iterate through all pages**"
   ]
  },
  {
   "cell_type": "code",
   "execution_count": 37,
   "metadata": {},
   "outputs": [
    {
     "data": {
      "text/plain": [
       "['https://www.makeupalley.com/product/searching?Brand=0&BrandName=&CategoryID=7&q=&page=1',\n",
       " 'https://www.makeupalley.com/product/searching?Brand=0&BrandName=&CategoryID=7&q=&page=2']"
      ]
     },
     "execution_count": 37,
     "metadata": {},
     "output_type": "execute_result"
    }
   ],
   "source": [
    "#get url for every page \n",
    "pages_url = []\n",
    "for i in range(1,1650):\n",
    "    pages_url.append('https://www.makeupalley.com/product/searching?Brand=0&BrandName=&CategoryID=7&q=&page={}'.format(i))\n",
    "\n",
    "pages_url[0:2]"
   ]
  },
  {
   "cell_type": "code",
   "execution_count": 50,
   "metadata": {},
   "outputs": [],
   "source": [
    "#store pages link in text file\n",
    "def get_page_url(page_count):\n",
    "    for i in range(1,page_count+1):\n",
    "        with open(file='pages_url.txt',mode='a',newline='') as fd:\n",
    "            fd.write('https://www.makeupalley.com/product/searching?Brand=0&BrandName=&CategoryID=7&q=&page={}'.format(i))"
   ]
  },
  {
   "cell_type": "code",
   "execution_count": 51,
   "metadata": {},
   "outputs": [],
   "source": [
    "#get_page_url(1650)"
   ]
  },
  {
   "cell_type": "code",
   "execution_count": 55,
   "metadata": {},
   "outputs": [],
   "source": [
    "#url = pd.read_csv('pages_url.txt', header= None)"
   ]
  },
  {
   "cell_type": "code",
   "execution_count": 56,
   "metadata": {},
   "outputs": [
    {
     "data": {
      "text/html": [
       "<div>\n",
       "<style scoped>\n",
       "    .dataframe tbody tr th:only-of-type {\n",
       "        vertical-align: middle;\n",
       "    }\n",
       "\n",
       "    .dataframe tbody tr th {\n",
       "        vertical-align: top;\n",
       "    }\n",
       "\n",
       "    .dataframe thead th {\n",
       "        text-align: right;\n",
       "    }\n",
       "</style>\n",
       "<table border=\"1\" class=\"dataframe\">\n",
       "  <thead>\n",
       "    <tr style=\"text-align: right;\">\n",
       "      <th></th>\n",
       "      <th>0</th>\n",
       "    </tr>\n",
       "  </thead>\n",
       "  <tbody>\n",
       "    <tr>\n",
       "      <th>0</th>\n",
       "      <td>https://www.makeupalley.com/product/searching?...</td>\n",
       "    </tr>\n",
       "    <tr>\n",
       "      <th>1</th>\n",
       "      <td>https://www.makeupalley.com/product/searching?...</td>\n",
       "    </tr>\n",
       "    <tr>\n",
       "      <th>2</th>\n",
       "      <td>https://www.makeupalley.com/product/searching?...</td>\n",
       "    </tr>\n",
       "    <tr>\n",
       "      <th>3</th>\n",
       "      <td>ttps://www.makeupalley.com/product/searching?B...</td>\n",
       "    </tr>\n",
       "    <tr>\n",
       "      <th>4</th>\n",
       "      <td>https://www.makeupalley.com/product/searching?...</td>\n",
       "    </tr>\n",
       "  </tbody>\n",
       "</table>\n",
       "</div>"
      ],
      "text/plain": [
       "                                                   0\n",
       "0  https://www.makeupalley.com/product/searching?...\n",
       "1  https://www.makeupalley.com/product/searching?...\n",
       "2  https://www.makeupalley.com/product/searching?...\n",
       "3  ttps://www.makeupalley.com/product/searching?B...\n",
       "4  https://www.makeupalley.com/product/searching?..."
      ]
     },
     "execution_count": 56,
     "metadata": {},
     "output_type": "execute_result"
    }
   ],
   "source": [
    "#url.head()"
   ]
  },
  {
   "cell_type": "code",
   "execution_count": 39,
   "metadata": {},
   "outputs": [
    {
     "name": "stdout",
     "output_type": "stream",
     "text": [
      "24735\n",
      "['https://www.makeupalley.com/product/showreview.asp/ItemId=206387/Detox-in-a-Jar-Exfoliating-Face-Mask/Tula/Masks', 'https://www.makeupalley.com/product/showreview.asp/ItemId=74011/Vitamin-E-Skin-Care-Cream/Fruit-Of-The-Earth/Moisturizers', 'https://www.makeupalley.com/product/showreview.asp/ItemId=197848/Kora-Organics-Noni-Glow-Face-Oil/KORA-Organics/Treatments-(Face)']\n"
     ]
    }
   ],
   "source": [
    "#get all product links from all pages\n",
    "for l in pages_url:\n",
    "    uClient = uReq(l)\n",
    "    page_html = uClient.read()\n",
    "    uClient.close()\n",
    "    page_soup = soup(page_html, 'html.parser')\n",
    "    prod_links = page_soup.findAll('a',{'class':'item-name'})\n",
    "    prod_links = list(OrderedDict.fromkeys(links))\n",
    "    \n",
    "    prod_url = []\n",
    "    for _ in range(len(pages_url)):\n",
    "        for l in prod_links:\n",
    "            prod_url.append('https://www.makeupalley.com{}'.format(l['href']))\n",
    "print(len(prod_url))\n",
    "print(prod_url[0:3])"
   ]
  },
  {
   "cell_type": "code",
   "execution_count": null,
   "metadata": {},
   "outputs": [],
   "source": [
    "#get all product links from all pages & store in txt file\n",
    "def get_product_url():\n",
    "    for l in pages_url:\n",
    "        uClient = uReq(l)\n",
    "        page_html = uClient.read()\n",
    "        uClient.close()\n",
    "        page_soup = soup(page_html, 'html.parser')\n",
    "        prod_links = page_soup.findAll('a',{'class':'item-name'})\n",
    "        prod_links = list(OrderedDict.fromkeys(links))\n",
    "\n",
    "        prod_url = []\n",
    "        for _ in range(len(pages_url)):\n",
    "            for l in prod_links:\n",
    "                prod_url.append('https://www.makeupalley.com{}'.format(l['href']))"
   ]
  },
  {
   "cell_type": "code",
   "execution_count": null,
   "metadata": {},
   "outputs": [],
   "source": [
    "#in each product url, need to get all the reviews from all pages\n",
    "#NEED TO KNOW HOW TO GO TO THE NEXT PAGE"
   ]
  },
  {
   "cell_type": "code",
   "execution_count": null,
   "metadata": {},
   "outputs": [],
   "source": [
    "#create a row containing product name, brand name, user name, review text, rating to append to a dataframe\n",
    "\n",
    "def create_row(page_url):\n",
    "    #15 reviews per page\n",
    "    for i in range(1,15): \n",
    "        uClient = uReq('https://www.makeupalley.com{}'.format(prod_url[2]))\n",
    "        page_html = uClient.read()\n",
    "        uClient.close()\n",
    "    page_soup = soup(page_html, 'html.parser')\n",
    "    product = page_soup.find('div',{'class':'headline'}).get_text()\n",
    "    brand = page_soup.find('span',{'class':'brand'}).get_text()\n",
    "    user = page_soup.find('div',{'class':'__UserLink__'}).get_text()\n",
    "    review = page_soup.find('span',{'class': 'review-text'}).get_text()\n",
    "    rating = page_soup.find('span',{'class': 'rating-value'}).get_text()\n",
    "    row.extend(product, user, review, rating)"
   ]
  },
  {
   "cell_type": "code",
   "execution_count": null,
   "metadata": {},
   "outputs": [],
   "source": [
    "# def clean_string(column):\n",
    "#     return column.apply(lambda x: x.replace(\"\\n\",'',2)).apply(lambda x: x.replace('  ',''))\n",
    "\n",
    "# def scrape_reviews(PATH, n_pages, sleep_time = 0.3):\n",
    "\n",
    "#     product = []\n",
    "#     brand = []\n",
    "#     user = []\n",
    "#     review = []\n",
    "#     rating = []\n",
    "\n",
    "#     for p in range(n_pages):\n",
    "\n",
    "#         sleep(sleep_time)\n",
    "\n",
    "#         http = requests.get(f'{PATH}{p}')\n",
    "#         bsoup = BeautifulSoup(http.text, 'html.parser')\n",
    "#         page_soup = soup(page_html, 'html.parser')\n",
    "        \n",
    "#         product_containers = page_soup.findAll('div',{'class':'headline'})\n",
    "#         brand_containers = page_soup.findAll('span',{'class':'brand'})\n",
    "#         user_containers = page_soup.findAll('div',{'class':'__UserLink__'})\n",
    "#         review_containers = page_soup.findAll('span',{'class': 'review-text'})\n",
    "#         rating_container = page_soup.findAll('span',{'class': 'rating-value'})\n",
    "    \n",
    "\n",
    "#         for x in range(len(data_containers)):    \n",
    "#             review_c = review_containers[x]\n",
    "#             headers.append(review_c.h2.a.text)\n",
    "#             reviews.append(review_c.p.text)\n",
    "#             reviewer = user_containers[x]\n",
    "#             names.append(reviewer.h3.text)\n",
    "#             rating = rating_container[x]\n",
    "#             ratings.append(rating.div.attrs['class'][1][12])\n",
    "            \n",
    "\n",
    "\n",
    "#             prof = profile_link_containers[x]\n",
    "#             link = 'https://www.trustpilot.com'+ prof.a['href']\n",
    "#             c_profile = requests.get(f'{link}')\n",
    "#             csoup = BeautifulSoup(c_profile.text, 'html.parser')\n",
    "#             cust_container = csoup.find('div', class_ = 'user-summary-location')\n",
    "#             locations.append(cust_container.text)\n",
    "            \n",
    "#     rev_df = pd.DataFrame(list(zip(product, brand, user, review, rating)),\n",
    "#                   columns = ['Product','Brand','User','Review','Rating'])\n",
    "    \n",
    "#     rev_df.Product = clean_string(rev_df.Product)\n",
    "#     rev_df.Brand = clean_string(rev_df.Brand)\n",
    "#     rev_df.User = clean_string(rev_df.User)\n",
    "#     rev_df.Review = clean_string(rev_df.Review)\n",
    "#     rev_df.Rating = rev_df.Rating.astype('int')\n",
    "    \n",
    "#     return rev_df"
   ]
  },
  {
   "cell_type": "code",
   "execution_count": 41,
   "metadata": {},
   "outputs": [],
   "source": [
    "import requests\n",
    "from bs4 import BeautifulSoup\n",
    "import xml.etree.ElementTree\n",
    "import re\n",
    "from time import sleep\n",
    "from sqlalchemy import create_engine\n",
    "from sqlalchemy import Table, Column\n",
    "from sqlalchemy import Integer, String, MetaData, Float\n",
    "from sqlalchemy.dialects.postgresql import ARRAY\n",
    "from sqlalchemy.exc import IntegrityError\n",
    "from sqlalchemy.sql import select, text"
   ]
  },
  {
   "cell_type": "code",
   "execution_count": null,
   "metadata": {},
   "outputs": [],
   "source": [
    "def make_soup(url):\n",
    "    headers = {\n",
    "        'user-agent': ('Mozilla/5.0 (Macintosh; Intel Mac OS X 10.9; rv:32.0) '\n",
    "                       'Gecko/20100101 Firefox/32.0')}\n",
    "    response = requests.get(url, headers=headers)\n",
    "    print('Fetched ', url)\n",
    "    page = response.text\n",
    "    soup = BeautifulSoup(page, \"lxml\")\n",
    "    return soup"
   ]
  },
  {
   "cell_type": "code",
   "execution_count": null,
   "metadata": {},
   "outputs": [],
   "source": [
    "def make_ma_review_soup(product_id, page):\n",
    "    review_url = 'http://reviews.sephora.com/8723abredes/{}/reviews.htm?format=embedded&page={}'.format(\n",
    "        product_id, page)\n",
    "    soup = make_soup(review_url)\n",
    "    return soup"
   ]
  },
  {
   "cell_type": "code",
   "execution_count": null,
   "metadata": {},
   "outputs": [],
   "source": [
    "def scrape_product_reviews(product_id):\n",
    "    page = 1\n",
    "    soup = make_sephora_review_soup(product_id, page)\n",
    "    total_review_count = 0\n",
    "    number_reviews_tag = soup.find('div', id='BVRRCustomRatingCountId')\n",
    "    if number_reviews_tag:\n",
    "        total_review_count = number_reviews_tag.find(\n",
    "            'span', class_='BVRRNumber').text\n",
    "        total_review_count = total_review_count.replace(',', '')\n",
    "        total_review_count = int(total_review_count)\n",
    "\n",
    "    if total_review_count == 0:\n",
    "        return None\n",
    "\n",
    "    curr_review_count = 0\n",
    "    reviews = []\n",
    "\n",
    "    while (curr_review_count) < 200 and (\n",
    "            curr_review_count < total_review_count):\n",
    "        reviews_grid = soup.find('div', id='BVRRContentContainerID')\n",
    "        reviews_tag = reviews_grid.findAll('span', {'itemprop': 'review'})\n",
    "        print('got ', curr_review_count)\n",
    "        for review_tag in reviews_tag:\n",
    "            curr_review_count += 1\n",
    "            age_range = skin_type = skin_tone = eye_color = None\n",
    "            review_text = reviewer_username = tags = title = None\n",
    "\n",
    "            review_text = review_tag.find('span', class_='BVRRReviewText').text\n",
    "            title = review_tag.find('span', class_='BVRRReviewTitle').text\n",
    "            rating = review_tag.find('span', class_='BVRRRatingNumber').text\n",
    "\n",
    "            tags_tag = review_tag.find(\n",
    "                'span', class_='BVRRReviewProTags')\n",
    "            if tags_tag:\n",
    "                tags_text = tags_tag.text\n",
    "                tags_text = tags_text.replace('\"', '')\n",
    "                tags = tags_text.split(',')\n",
    "                tags = [t.strip() for t in tags]\n",
    "\n",
    "            username_tag = review_tag.find(\n",
    "                'span', class_='BVRRNickname')\n",
    "            if username_tag:\n",
    "                reviewer_username = username_tag.text.strip()\n",
    "\n",
    "            skin_type_tag = review_tag.find(\n",
    "                'span', class_='BVRRContextDataValueskinType')\n",
    "            if skin_type_tag:\n",
    "                skin_type = skin_type_tag.text.strip().lower()\n",
    "\n",
    "            skin_tone_tag = review_tag.find(\n",
    "                'span', class_='BVRRContextDataValueskinTone')\n",
    "            if skin_tone_tag:\n",
    "                skin_tone = skin_tone_tag.text.strip().lower()\n",
    "\n",
    "            eye_color_tag = review_tag.find(\n",
    "                'span', class_='BVRRContextDataValueeyeColor')\n",
    "            if eye_color_tag:\n",
    "                eye_color = eye_color_tag.text.strip().lower()\n",
    "\n",
    "            if (review_text is not None):\n",
    "                review = {'product_id': product_id,\n",
    "                          'review_text': review_text,\n",
    "                          'review_title': title,\n",
    "                          'rating': rating,\n",
    "                          'age_range': age_range,\n",
    "                          'skin_type': skin_type,\n",
    "                          'skin_tone': skin_tone,\n",
    "                          'eye_color': eye_color,\n",
    "                          'reviewer_username': reviewer_username,\n",
    "                          'tags': tags}\n",
    "                reviews.append(review)\n",
    "        # Get next review page\n",
    "        page += 1\n",
    "        soup = make_sephora_review_soup(product_id, page)\n",
    "\n",
    "    return reviews"
   ]
  },
  {
   "cell_type": "code",
   "execution_count": null,
   "metadata": {},
   "outputs": [],
   "source": []
  },
  {
   "cell_type": "code",
   "execution_count": null,
   "metadata": {},
   "outputs": [],
   "source": []
  },
  {
   "cell_type": "code",
   "execution_count": null,
   "metadata": {},
   "outputs": [],
   "source": []
  }
 ],
 "metadata": {
  "kernelspec": {
   "display_name": "Python 3",
   "language": "python",
   "name": "python3"
  },
  "language_info": {
   "codemirror_mode": {
    "name": "ipython",
    "version": 3
   },
   "file_extension": ".py",
   "mimetype": "text/x-python",
   "name": "python",
   "nbconvert_exporter": "python",
   "pygments_lexer": "ipython3",
   "version": "3.7.1"
  }
 },
 "nbformat": 4,
 "nbformat_minor": 2
}
